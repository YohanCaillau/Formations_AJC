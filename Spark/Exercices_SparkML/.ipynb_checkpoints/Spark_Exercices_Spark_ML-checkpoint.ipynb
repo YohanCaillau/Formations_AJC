{
 "cells": [
  {
   "cell_type": "markdown",
   "id": "e775f6b6",
   "metadata": {},
   "source": [
    "# Exercice 1"
   ]
  },
  {
   "cell_type": "markdown",
   "id": "1d70f16b",
   "metadata": {},
   "source": [
    "## Import "
   ]
  },
  {
   "cell_type": "code",
   "execution_count": 1,
   "id": "ebff267d",
   "metadata": {},
   "outputs": [],
   "source": [
    "from pyspark.sql import SparkSession\n",
    "import pyspark\n",
    "import findspark\n",
    "from pyspark.sql import SparkSession\n",
    "from pyspark import SparkContext\n",
    "from pyspark.sql.types import *\n",
    "from pyspark.sql.functions import *\n",
    "from pyspark.sql import SQLContext\n",
    "import pyspark.sql.functions as F\n",
    "from pyspark.sql import DataFrameReader"
   ]
  },
  {
   "cell_type": "code",
   "execution_count": 2,
   "id": "d500265a",
   "metadata": {},
   "outputs": [],
   "source": [
    "#Initialisation de findspark\n",
    "findspark.init()"
   ]
  },
  {
   "cell_type": "code",
   "execution_count": 3,
   "id": "5ccf0171",
   "metadata": {},
   "outputs": [],
   "source": [
    "#Création du SparkSession\n",
    "spark = SparkSession.builder.appName(\"Exemple Spark\").getOrCreate()\n",
    "sc = SparkContext.getOrCreate()"
   ]
  },
  {
   "cell_type": "markdown",
   "id": "799f4827",
   "metadata": {},
   "source": [
    "## Importer le jeu de données"
   ]
  },
  {
   "cell_type": "code",
   "execution_count": 4,
   "id": "cf866152",
   "metadata": {},
   "outputs": [],
   "source": [
    "schema = StructType([\\\n",
    "    StructField(\"id_film\", IntegerType(), True),\\\n",
    "    StructField(\"id_util\", IntegerType(), True),\\\n",
    "    StructField(\"note\", IntegerType(), True),\\\n",
    "    StructField(\"timestamp\", IntegerType(), True)])"
   ]
  },
  {
   "cell_type": "code",
   "execution_count": 5,
   "id": "9686e710",
   "metadata": {},
   "outputs": [
    {
     "name": "stdout",
     "output_type": "stream",
     "text": [
      "+-------+-------+----+---------+\n",
      "|id_film|id_util|note|timestamp|\n",
      "+-------+-------+----+---------+\n",
      "|    196|    242|   3|881250949|\n",
      "|    186|    302|   3|891717742|\n",
      "|     22|    377|   1|878887116|\n",
      "|    244|     51|   2|880606923|\n",
      "|    166|    346|   1|886397596|\n",
      "|    298|    474|   4|884182806|\n",
      "|    115|    265|   2|881171488|\n",
      "|    253|    465|   5|891628467|\n",
      "|    305|    451|   3|886324817|\n",
      "|      6|     86|   3|883603013|\n",
      "|     62|    257|   2|879372434|\n",
      "|    286|   1014|   5|879781125|\n",
      "|    200|    222|   5|876042340|\n",
      "|    210|     40|   3|891035994|\n",
      "|    224|     29|   3|888104457|\n",
      "|    303|    785|   3|879485318|\n",
      "|    122|    387|   5|879270459|\n",
      "|    194|    274|   2|879539794|\n",
      "|    291|   1042|   4|874834944|\n",
      "|    234|   1184|   2|892079237|\n",
      "+-------+-------+----+---------+\n",
      "only showing top 20 rows\n",
      "\n"
     ]
    }
   ],
   "source": [
    "movies_ratings = (spark.read.format(\"csv\").option(\"header\",\"false\").option(\"sep\",\"\\t\").schema(schema).load(\"../Exercices_Dataframe/u.data\"))\n",
    "movies_ratings.show()"
   ]
  },
  {
   "cell_type": "markdown",
   "id": "74e42628",
   "metadata": {},
   "source": [
    "## Split des données 80/20"
   ]
  },
  {
   "cell_type": "code",
   "execution_count": 6,
   "id": "34d258f4",
   "metadata": {},
   "outputs": [],
   "source": [
    "# Create test and train set\n",
    "(train, test) = movies_ratings.randomSplit([0.8, 0.2], seed = 42)"
   ]
  },
  {
   "cell_type": "markdown",
   "id": "5ad58acb",
   "metadata": {},
   "source": [
    "## Création du modèle et évaluation"
   ]
  },
  {
   "cell_type": "code",
   "execution_count": 7,
   "id": "40b3a526",
   "metadata": {},
   "outputs": [],
   "source": [
    "# Import the required functions\n",
    "from pyspark.ml.evaluation import RegressionEvaluator\n",
    "from pyspark.ml.recommendation import ALS\n",
    "\n",
    "# Create ALS model\n",
    "als = ALS(\n",
    "         itemCol=\"id_film\",\n",
    "         userCol=\"id_util\", \n",
    "         ratingCol=\"note\", \n",
    "         nonnegative = True, \n",
    "         implicitPrefs = False,\n",
    "         coldStartStrategy=\"drop\"\n",
    ")"
   ]
  },
  {
   "cell_type": "code",
   "execution_count": 8,
   "id": "4922e028",
   "metadata": {},
   "outputs": [],
   "source": [
    "# Define evaluator as RMSE and print length of evaluator\n",
    "evaluator = RegressionEvaluator(metricName=\"rmse\", labelCol=\"note\", predictionCol=\"prediction\") "
   ]
  },
  {
   "cell_type": "markdown",
   "id": "dcc1bead",
   "metadata": {},
   "source": [
    "## Prédictions et score du Modèle "
   ]
  },
  {
   "cell_type": "code",
   "execution_count": 10,
   "id": "49cd2bd9",
   "metadata": {},
   "outputs": [
    {
     "name": "stdout",
     "output_type": "stream",
     "text": [
      "+-------+-------+----+---------+----------+\n",
      "|id_film|id_util|note|timestamp|prediction|\n",
      "+-------+-------+----+---------+----------+\n",
      "|      6|    463|   4|883601713|   3.69308|\n",
      "|      7|    463|   4|891353192| 3.8839319|\n",
      "|      7|    496|   5|891351083|  4.479812|\n",
      "|     10|    496|   5|877889005|  4.421669|\n",
      "|     13|    471|   1|882140455|  3.233928|\n",
      "|     16|    471|   3|877724845| 4.0094953|\n",
      "|     21|    148|   1|874951482|  2.457415|\n",
      "|     42|    496|   5|881107718| 4.7317567|\n",
      "|     65|    471|   4|879217434|   3.67897|\n",
      "|     67|    833|   4|875379794| 3.4029696|\n",
      "|     75|    833|   2|884051113| 3.2552097|\n",
      "|     83|    471|   3|891182000| 3.7587712|\n",
      "|     84|    148|   4|883452274| 3.3591747|\n",
      "|     92|    148|   2|877383934| 2.8067575|\n",
      "|     92|    463|   4|875656623| 3.7974286|\n",
      "|     94|    496|   3|885873159| 4.1130147|\n",
      "|     95|    471|   5|884266051| 3.3027093|\n",
      "|     95|    496|   4|879198746| 4.2307005|\n",
      "|     99|    471|   4|885679091| 3.5876184|\n",
      "|    119|    471|   4|886177338|  3.957757|\n",
      "+-------+-------+----+---------+----------+\n",
      "only showing top 20 rows\n",
      "\n",
      "0.9181183464807127\n"
     ]
    }
   ],
   "source": [
    "#Fit model to the 'train' dataset\n",
    "model = als.fit(train)\n",
    "\n",
    "# View the predictions\n",
    "test_predictions = model.transform(test)\n",
    "test_predictions.show()\n",
    "\n",
    "RMSE = evaluator.evaluate(test_predictions)\n",
    "print(RMSE)"
   ]
  },
  {
   "cell_type": "markdown",
   "id": "4466a430",
   "metadata": {},
   "source": [
    "## Recommandations"
   ]
  },
  {
   "cell_type": "code",
   "execution_count": 11,
   "id": "5a0cc368",
   "metadata": {},
   "outputs": [
    {
     "name": "stdout",
     "output_type": "stream",
     "text": [
      "+-------+--------------------+\n",
      "|id_util|     recommendations|\n",
      "+-------+--------------------+\n",
      "|      1|[{688, 5.532333},...|\n",
      "|     12|[{688, 5.5139046}...|\n",
      "|     22|[{688, 5.622994},...|\n",
      "|     26|[{849, 4.387957},...|\n",
      "|     27|[{137, 4.839761},...|\n",
      "|     28|[{688, 5.306454},...|\n",
      "|     31|[{849, 4.9167933}...|\n",
      "|     34|[{38, 5.372229}, ...|\n",
      "|     44|[{688, 4.933082},...|\n",
      "|     47|[{808, 4.6845784}...|\n",
      "|     52|[{688, 4.6760197}...|\n",
      "|     53|[{636, 4.443152},...|\n",
      "|     65|[{688, 4.6812096}...|\n",
      "|     76|[{849, 4.7106395}...|\n",
      "|     78|[{38, 4.619017}, ...|\n",
      "|     81|[{697, 4.775359},...|\n",
      "|     85|[{519, 4.426957},...|\n",
      "|     91|[{355, 4.8935}, {...|\n",
      "|     93|[{928, 5.1379266}...|\n",
      "|    101|[{519, 5.021376},...|\n",
      "+-------+--------------------+\n",
      "only showing top 20 rows\n",
      "\n"
     ]
    }
   ],
   "source": [
    "rec = model.recommendForAllUsers(5)\n",
    "rec.show()"
   ]
  },
  {
   "cell_type": "markdown",
   "id": "f294008a",
   "metadata": {},
   "source": [
    "# Exercice 2"
   ]
  },
  {
   "cell_type": "code",
   "execution_count": 12,
   "id": "57adcef5",
   "metadata": {},
   "outputs": [
    {
     "name": "stdout",
     "output_type": "stream",
     "text": [
      "+---+---------------+--------+-------------+-----------------------+--------+---------+---------------+\n",
      "| No|TransactionDate|HouseAge|DistanceToMRT|NumberConvenienceStores|Latitude|Longitude|PriceOfUnitArea|\n",
      "+---+---------------+--------+-------------+-----------------------+--------+---------+---------------+\n",
      "|  1|       2012.917|      32|     84.87882|                     10|24.98298|121.54024|           37.9|\n",
      "|  2|       2012.917|    19.5|     306.5947|                      9|24.98034|121.53951|           42.2|\n",
      "|  3|       2013.583|    13.3|     561.9845|                      5|24.98746|121.54391|           47.3|\n",
      "|  4|         2013.5|    13.3|     561.9845|                      5|24.98746|121.54391|           54.8|\n",
      "|  5|       2012.833|       5|     390.5684|                      5|24.97937|121.54245|           43.1|\n",
      "|  6|       2012.667|     7.1|      2175.03|                      3|24.96305|121.51254|           32.1|\n",
      "|  7|       2012.667|    34.5|     623.4731|                      7|24.97933|121.53642|           40.3|\n",
      "|  8|       2013.417|    20.3|     287.6025|                      6|24.98042|121.54228|           46.7|\n",
      "|  9|         2013.5|    31.7|     5512.038|                      1|24.95095|121.48458|           18.8|\n",
      "| 10|       2013.417|    17.9|      1783.18|                      3|24.96731|121.51486|           22.1|\n",
      "| 11|       2013.083|    34.8|     405.2134|                      1|24.97349|121.53372|           41.4|\n",
      "| 12|       2013.333|     6.3|     90.45606|                      9|24.97433| 121.5431|           58.1|\n",
      "| 13|       2012.917|      13|     492.2313|                      5|24.96515|121.53737|           39.3|\n",
      "| 14|       2012.667|    20.4|     2469.645|                      4|24.96108|121.51046|           23.8|\n",
      "| 15|         2013.5|    13.2|     1164.838|                      4|24.99156|121.53406|           34.3|\n",
      "| 16|       2013.583|    35.7|     579.2083|                      2| 24.9824|121.54619|           50.5|\n",
      "| 17|        2013.25|       0|     292.9978|                      6|24.97744|121.54458|           70.1|\n",
      "| 18|        2012.75|    17.7|     350.8515|                      1|24.97544|121.53119|           37.4|\n",
      "| 19|       2013.417|    16.9|     368.1363|                      8| 24.9675|121.54451|           42.3|\n",
      "| 20|       2012.667|     1.5|     23.38284|                      7|24.96772|121.54102|           47.7|\n",
      "+---+---------------+--------+-------------+-----------------------+--------+---------+---------------+\n",
      "only showing top 20 rows\n",
      "\n"
     ]
    }
   ],
   "source": [
    "df = (spark.read.format(\"csv\").option(\"header\",\"true\").load(\"../Exercices_SparkML/realestate.csv\"))\n",
    "df.show()"
   ]
  },
  {
   "cell_type": "code",
   "execution_count": 13,
   "id": "dfcce9a8",
   "metadata": {},
   "outputs": [
    {
     "name": "stdout",
     "output_type": "stream",
     "text": [
      "features:  ['No', 'TransactionDate', 'HouseAge', 'DistanceToMRT', 'NumberConvenienceStores', 'Latitude']\n",
      "label:  PriceOfUnitArea\n"
     ]
    }
   ],
   "source": [
    "features = df.columns[0:6]\n",
    "label = df.columns[-1]\n",
    "print(\"features: \", features)\n",
    "print(\"label: \", label)"
   ]
  },
  {
   "cell_type": "code",
   "execution_count": 14,
   "id": "226df634",
   "metadata": {},
   "outputs": [],
   "source": [
    "from pyspark.ml.feature import VectorAssembler\n",
    "assembler = VectorAssembler(inputCols = features, outputCol=\"features\")"
   ]
  },
  {
   "cell_type": "code",
   "execution_count": 15,
   "id": "1e0f2fe8",
   "metadata": {},
   "outputs": [
    {
     "name": "stdout",
     "output_type": "stream",
     "text": [
      "root\n",
      " |-- No: integer (nullable = true)\n",
      " |-- TransactionDate: float (nullable = true)\n",
      " |-- HouseAge: float (nullable = true)\n",
      " |-- DistanceToMRT: float (nullable = true)\n",
      " |-- NumberConvenienceStores: integer (nullable = true)\n",
      " |-- Latitude: float (nullable = true)\n",
      " |-- Longitude: float (nullable = true)\n",
      " |-- PriceOfUnitArea: float (nullable = true)\n",
      "\n",
      "+---+---------------+--------+-------------+-----------------------+--------+---------+---------------+\n",
      "| No|TransactionDate|HouseAge|DistanceToMRT|NumberConvenienceStores|Latitude|Longitude|PriceOfUnitArea|\n",
      "+---+---------------+--------+-------------+-----------------------+--------+---------+---------------+\n",
      "|  1|       2012.917|    32.0|     84.87882|                     10|24.98298|121.54024|           37.9|\n",
      "|  2|       2012.917|    19.5|     306.5947|                      9|24.98034|121.53951|           42.2|\n",
      "|  3|       2013.583|    13.3|     561.9845|                      5|24.98746|121.54391|           47.3|\n",
      "|  4|         2013.5|    13.3|     561.9845|                      5|24.98746|121.54391|           54.8|\n",
      "|  5|       2012.833|     5.0|     390.5684|                      5|24.97937|121.54245|           43.1|\n",
      "|  6|       2012.667|     7.1|      2175.03|                      3|24.96305|121.51254|           32.1|\n",
      "|  7|       2012.667|    34.5|     623.4731|                      7|24.97933|121.53642|           40.3|\n",
      "|  8|       2013.417|    20.3|     287.6025|                      6|24.98042|121.54228|           46.7|\n",
      "|  9|         2013.5|    31.7|     5512.038|                      1|24.95095|121.48458|           18.8|\n",
      "| 10|       2013.417|    17.9|      1783.18|                      3|24.96731|121.51486|           22.1|\n",
      "| 11|       2013.083|    34.8|     405.2134|                      1|24.97349|121.53372|           41.4|\n",
      "| 12|       2013.333|     6.3|     90.45606|                      9|24.97433| 121.5431|           58.1|\n",
      "| 13|       2012.917|    13.0|     492.2313|                      5|24.96515|121.53737|           39.3|\n",
      "| 14|       2012.667|    20.4|     2469.645|                      4|24.96108|121.51046|           23.8|\n",
      "| 15|         2013.5|    13.2|     1164.838|                      4|24.99156|121.53406|           34.3|\n",
      "| 16|       2013.583|    35.7|     579.2083|                      2| 24.9824|121.54619|           50.5|\n",
      "| 17|        2013.25|     0.0|     292.9978|                      6|24.97744|121.54458|           70.1|\n",
      "| 18|        2012.75|    17.7|     350.8515|                      1|24.97544|121.53119|           37.4|\n",
      "| 19|       2013.417|    16.9|     368.1363|                      8| 24.9675|121.54451|           42.3|\n",
      "| 20|       2012.667|     1.5|     23.38284|                      7|24.96772|121.54102|           47.7|\n",
      "+---+---------------+--------+-------------+-----------------------+--------+---------+---------------+\n",
      "only showing top 20 rows\n",
      "\n"
     ]
    }
   ],
   "source": [
    "df2 = df.selectExpr(\"cast(No as int) No\",\n",
    "    \"cast(TransactionDate as float) TransactionDate\",\n",
    "    \"cast(HouseAge as float) HouseAge\",\n",
    "    \"cast(DistanceToMRT as float) DistanceToMRT\",\n",
    "    \"cast(NumberConvenienceStores as int) NumberConvenienceStores\",\n",
    "    \"cast(Latitude as float) Latitude\", \n",
    "    \"cast(Longitude as float) Longitude\",\n",
    "    \"cast(PriceOfUnitArea as float) PriceOfUnitArea\")               \n",
    "df2.printSchema()\n",
    "df2.show()"
   ]
  },
  {
   "cell_type": "code",
   "execution_count": 18,
   "id": "4eb10ae4",
   "metadata": {},
   "outputs": [
    {
     "name": "stdout",
     "output_type": "stream",
     "text": [
      "+-----------------------------------------------------------------------------------+---------------+\n",
      "|features                                                                           |PriceOfUnitArea|\n",
      "+-----------------------------------------------------------------------------------+---------------+\n",
      "|[1.0,2012.9169921875,32.0,84.87882232666016,10.0,24.982980728149414]               |37.9           |\n",
      "|[2.0,2012.9169921875,19.5,306.5946960449219,9.0,24.98033905029297]                 |42.2           |\n",
      "|[3.0,2013.5830078125,13.300000190734863,561.9844970703125,5.0,24.987459182739258]  |47.3           |\n",
      "|[4.0,2013.5,13.300000190734863,561.9844970703125,5.0,24.987459182739258]           |54.8           |\n",
      "|[5.0,2012.8330078125,5.0,390.5683898925781,5.0,24.9793701171875]                   |43.1           |\n",
      "|[6.0,2012.6669921875,7.099999904632568,2175.030029296875,3.0,24.963050842285156]   |32.1           |\n",
      "|[7.0,2012.6669921875,34.5,623.4730834960938,7.0,24.97933006286621]                 |40.3           |\n",
      "|[8.0,2013.4169921875,20.299999237060547,287.6025085449219,6.0,24.980419158935547]  |46.7           |\n",
      "|[9.0,2013.5,31.700000762939453,5512.0380859375,1.0,24.950950622558594]             |18.8           |\n",
      "|[10.0,2013.4169921875,17.899999618530273,1783.1800537109375,3.0,24.967309951782227]|22.1           |\n",
      "|[11.0,2013.0830078125,34.79999923706055,405.2134094238281,1.0,24.97348976135254]   |41.4           |\n",
      "|[12.0,2013.3330078125,6.300000190734863,90.45606231689453,9.0,24.97433090209961]   |58.1           |\n",
      "|[13.0,2012.9169921875,13.0,492.2312927246094,5.0,24.965150833129883]               |39.3           |\n",
      "|[14.0,2012.6669921875,20.399999618530273,2469.64501953125,4.0,24.96108055114746]   |23.8           |\n",
      "|[15.0,2013.5,13.199999809265137,1164.8380126953125,4.0,24.991559982299805]         |34.3           |\n",
      "|[16.0,2013.5830078125,35.70000076293945,579.2083129882812,2.0,24.98240089416504]   |50.5           |\n",
      "|[17.0,2013.25,0.0,292.997802734375,6.0,24.977439880371094]                         |70.1           |\n",
      "|[18.0,2012.75,17.700000762939453,350.85150146484375,1.0,24.975439071655273]        |37.4           |\n",
      "|[19.0,2013.4169921875,16.899999618530273,368.13629150390625,8.0,24.967500686645508]|42.3           |\n",
      "|[20.0,2012.6669921875,1.5,23.38283920288086,7.0,24.96772003173828]                 |47.7           |\n",
      "+-----------------------------------------------------------------------------------+---------------+\n",
      "only showing top 20 rows\n",
      "\n"
     ]
    }
   ],
   "source": [
    "output = assembler.transform(df2)\n",
    "output.select(\"features\", \"PriceOfUnitArea\").show(truncate=False)"
   ]
  },
  {
   "cell_type": "code",
   "execution_count": 19,
   "id": "62b3e780",
   "metadata": {},
   "outputs": [
    {
     "name": "stdout",
     "output_type": "stream",
     "text": [
      "355\n",
      "59\n"
     ]
    }
   ],
   "source": [
    "train, test = output.randomSplit([0.8, 0.2], seed = 42)\n",
    "print(train.count())\n",
    "print(test.count())"
   ]
  },
  {
   "cell_type": "code",
   "execution_count": 21,
   "id": "ea062bfe",
   "metadata": {},
   "outputs": [],
   "source": [
    "from pyspark.ml.regression import DecisionTreeRegressor\n",
    "Decison_Tree = DecisionTreeRegressor(featuresCol = \"features\", labelCol = label)"
   ]
  },
  {
   "cell_type": "code",
   "execution_count": 22,
   "id": "11dd0eec",
   "metadata": {},
   "outputs": [],
   "source": [
    "from pyspark.ml.evaluation import RegressionEvaluator\n",
    "# Define evaluator as RMSE and print length of evaluator\n",
    "evaluator = RegressionEvaluator(metricName=\"rmse\", labelCol=label, predictionCol=\"prediction\") "
   ]
  },
  {
   "cell_type": "code",
   "execution_count": 23,
   "id": "102b10ca",
   "metadata": {},
   "outputs": [
    {
     "name": "stdout",
     "output_type": "stream",
     "text": [
      "+---+---------------+--------+-------------+-----------------------+--------+---------+---------------+--------------------+------------------+\n",
      "| No|TransactionDate|HouseAge|DistanceToMRT|NumberConvenienceStores|Latitude|Longitude|PriceOfUnitArea|            features|        prediction|\n",
      "+---+---------------+--------+-------------+-----------------------+--------+---------+---------------+--------------------+------------------+\n",
      "|  3|       2013.583|    13.3|     561.9845|                      5|24.98746|121.54391|           47.3|[3.0,2013.5830078...|40.441538209181566|\n",
      "|  7|       2012.667|    34.5|     623.4731|                      7|24.97933|121.53642|           40.3|[7.0,2012.6669921...| 35.48181811246005|\n",
      "|  9|         2013.5|    31.7|     5512.038|                      1|24.95095|121.48458|           18.8|[9.0,2013.5,31.70...|21.100000381469727|\n",
      "| 14|       2012.667|    20.4|     2469.645|                      4|24.96108|121.51046|           23.8|[14.0,2012.666992...| 25.99062493443489|\n",
      "| 20|       2012.667|     1.5|     23.38284|                      7|24.96772|121.54102|           47.7|[20.0,2012.666992...| 48.25500011444092|\n",
      "| 24|       2013.083|    10.1|     279.1726|                      7|24.97528|121.54541|           47.9|[24.0,2013.083007...|56.088889016045464|\n",
      "| 30|       2013.083|     7.1|     451.2438|                      5|24.97563|121.54694|           57.1|[30.0,2013.083007...| 45.52999992370606|\n",
      "| 36|         2013.5|    13.9|     4079.418|                      0|25.01459|121.51816|           27.3|[36.0,2013.5,13.8...| 43.89999961853027|\n",
      "| 46|       2013.083|    36.6|     488.8193|                      8|24.97015|121.54494|           38.3|[46.0,2013.083007...|40.441538209181566|\n",
      "| 47|       2013.417|    21.7|     463.9623|                      9| 24.9703|121.54458|           42.0|[47.0,2013.416992...|40.441538209181566|\n",
      "| 48|       2013.583|    35.9|     640.7391|                      3|24.97563|121.53715|           61.5|[48.0,2013.583007...|40.441538209181566|\n",
      "| 50|       2012.667|    29.4|     4510.359|                      1|24.94925|121.49542|           13.2|[50.0,2012.666992...|14.609090805053711|\n",
      "| 52|       2013.083|    31.3|     1758.406|                      1|24.95402|121.55282|           20.7|[52.0,2013.083007...| 16.68571444920131|\n",
      "| 56|       2012.833|    31.7|     1160.632|                      0|24.94968|121.53009|           13.7|[56.0,2012.833007...| 16.68571444920131|\n",
      "| 63|       2012.917|    17.2|     2175.877|                      3|24.96303|121.51254|           27.7|[63.0,2012.916992...| 25.99062493443489|\n",
      "| 70|       2012.833|    12.5|     561.9845|                      5|24.98746|121.54391|           42.0|[70.0,2012.833007...| 35.48181811246005|\n",
      "| 78|       2012.833|    20.5|     2185.128|                      3|24.96322|121.51237|           25.6|[78.0,2012.833007...| 25.99062493443489|\n",
      "|101|         2013.5|    17.5|     964.7496|                      4|24.98872|121.53411|           38.2|[101.0,2013.5,17....| 38.18333307902018|\n",
      "|113|       2013.417|     9.9|     2102.427|                      3|24.96044|121.51462|           23.1|[113.0,2013.41699...| 25.99062493443489|\n",
      "|117|         2013.0|    30.9|     6396.283|                      1|24.94375|121.47883|           12.2|[117.0,2013.0,30....|14.609090805053711|\n",
      "+---+---------------+--------+-------------+-----------------------+--------+---------+---------------+--------------------+------------------+\n",
      "only showing top 20 rows\n",
      "\n",
      "8.150550886272852\n"
     ]
    }
   ],
   "source": [
    "#Fit model to the 'train' dataset\n",
    "model = Decison_Tree.fit(train)\n",
    "\n",
    "# View the predictions\n",
    "test_predictions = model.transform(test)\n",
    "test_predictions.show()\n",
    "\n",
    "RMSE = evaluator.evaluate(test_predictions)\n",
    "print(RMSE)"
   ]
  }
 ],
 "metadata": {
  "kernelspec": {
   "display_name": "Python 3 (ipykernel)",
   "language": "python",
   "name": "python3"
  },
  "language_info": {
   "codemirror_mode": {
    "name": "ipython",
    "version": 3
   },
   "file_extension": ".py",
   "mimetype": "text/x-python",
   "name": "python",
   "nbconvert_exporter": "python",
   "pygments_lexer": "ipython3",
   "version": "3.10.4"
  }
 },
 "nbformat": 4,
 "nbformat_minor": 5
}
