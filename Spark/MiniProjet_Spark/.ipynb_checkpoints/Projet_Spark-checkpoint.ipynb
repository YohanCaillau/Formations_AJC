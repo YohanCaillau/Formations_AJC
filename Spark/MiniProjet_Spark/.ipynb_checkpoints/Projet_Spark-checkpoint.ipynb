{
 "cells": [
  {
   "cell_type": "code",
   "execution_count": 0,
   "metadata": {
    "application/vnd.databricks.v1+cell": {
     "inputWidgets": {},
     "nuid": "d3c6a3a0-6928-4470-937d-a8fad51cad0b",
     "showTitle": false,
     "title": ""
    }
   },
   "outputs": [
    {
     "data": {
      "text/plain": [
       "Requirement already satisfied: findspark in /databricks/python3/lib/python3.8/site-packages (2.0.1)\r\n",
       "\u001b[33mWARNING: You are using pip version 21.0.1; however, version 22.2.2 is available.\r\n",
       "You should consider upgrading via the '/databricks/python3/bin/python -m pip install --upgrade pip' command.\u001b[0m\r\n"
      ]
     },
     "metadata": {
      "application/vnd.databricks.v1+output": {
       "addedWidgets": {},
       "arguments": {},
       "data": "Requirement already satisfied: findspark in /databricks/python3/lib/python3.8/site-packages (2.0.1)\r\n\u001b[33mWARNING: You are using pip version 21.0.1; however, version 22.2.2 is available.\r\nYou should consider upgrading via the '/databricks/python3/bin/python -m pip install --upgrade pip' command.\u001b[0m\r\n",
       "datasetInfos": [],
       "metadata": {},
       "removedWidgets": [],
       "type": "ansi"
      }
     },
     "output_type": "display_data"
    }
   ],
   "source": [
    "!pip install findspark"
   ]
  },
  {
   "cell_type": "code",
   "execution_count": 0,
   "metadata": {
    "application/vnd.databricks.v1+cell": {
     "inputWidgets": {},
     "nuid": "b8b53ab3-c636-424a-a41c-e9ec3159af3d",
     "showTitle": false,
     "title": ""
    }
   },
   "outputs": [],
   "source": [
    "from pyspark import SparkContext\n",
    "from pyspark.sql import SparkSession\n",
    "from pyspark.streaming import StreamingContext\n",
    "from pyspark.sql import functions as F\n",
    "from pyspark.sql.functions import *\n",
    "from pyspark.sql.types import *\n",
    "import json\n",
    "import findspark"
   ]
  },
  {
   "cell_type": "code",
   "execution_count": 0,
   "metadata": {
    "application/vnd.databricks.v1+cell": {
     "inputWidgets": {},
     "nuid": "967656f7-a3ab-4125-aa00-19399d9ce134",
     "showTitle": false,
     "title": ""
    }
   },
   "outputs": [],
   "source": [
    "findspark.init()"
   ]
  },
  {
   "cell_type": "code",
   "execution_count": 0,
   "metadata": {
    "application/vnd.databricks.v1+cell": {
     "inputWidgets": {},
     "nuid": "02792c4f-6529-4f6e-aba3-fffb66fdd7f0",
     "showTitle": false,
     "title": ""
    }
   },
   "outputs": [],
   "source": [
    "spark = SparkSession.builder.appName(\"ProjetVelib\")\\\n",
    "        .master(\"local\")\\\n",
    "        .getOrCreate()\n",
    "sc = spark.sparkContext.setLogLevel(\"ERROR\")\n",
    "#ssc = StreamingContext(sc, 60)"
   ]
  },
  {
   "cell_type": "code",
   "execution_count": 0,
   "metadata": {
    "application/vnd.databricks.v1+cell": {
     "inputWidgets": {},
     "nuid": "ab214783-5a1d-40f7-b8c8-fef205318f93",
     "showTitle": false,
     "title": ""
    }
   },
   "outputs": [],
   "source": [
    "raw_json = spark.read.json(\"dbfs:/FileStore/shared_uploads/cecile.guillot@live.fr/test.json\", multiLine=True)\n",
    "\n",
    "df = spark.readStream\\\n",
    "          .format(\"kafka\")\\\n",
    "          .option(\"kafka.bootstrap.servers\", \"51.38.185.58:9092\")\\\n",
    "          .option(\"subscribe\", \"station_status2\")\\\n",
    "          .option(\"startingOffsets\", \"latest\")\\\n",
    "          .load()\\\n",
    "          .withColumn(\"value\", from_json(col(\"value\").cast(\"string\"), raw_json.schema))\\\n",
    "          .select(col('value.fields.name'), col('value.datasetid'), col('value.*'))"
   ]
  },
  {
   "cell_type": "code",
   "execution_count": 0,
   "metadata": {
    "application/vnd.databricks.v1+cell": {
     "inputWidgets": {},
     "nuid": "d45ef9c0-e59b-4663-bead-8deb160a1f99",
     "showTitle": false,
     "title": ""
    }
   },
   "outputs": [],
   "source": [
    "df = df.drop('datasetid', 'geometry', 'record_timestamp', 'recordid')"
   ]
  },
  {
   "cell_type": "code",
   "execution_count": 0,
   "metadata": {
    "application/vnd.databricks.v1+cell": {
     "inputWidgets": {},
     "nuid": "0ecf705f-5a36-4849-97e7-ce3ff41d6395",
     "showTitle": false,
     "title": ""
    }
   },
   "outputs": [
    {
     "data": {
      "text/plain": [
       "root\n",
       " |-- name: string (nullable = true)\n",
       " |-- fields: struct (nullable = true)\n",
       " |    |-- capacity: long (nullable = true)\n",
       " |    |-- coordonnees_geo: array (nullable = true)\n",
       " |    |    |-- element: double (containsNull = true)\n",
       " |    |-- duedate: string (nullable = true)\n",
       " |    |-- ebike: long (nullable = true)\n",
       " |    |-- is_installed: string (nullable = true)\n",
       " |    |-- is_renting: string (nullable = true)\n",
       " |    |-- is_returning: string (nullable = true)\n",
       " |    |-- mechanical: long (nullable = true)\n",
       " |    |-- name: string (nullable = true)\n",
       " |    |-- nom_arrondissement_communes: string (nullable = true)\n",
       " |    |-- numbikesavailable: long (nullable = true)\n",
       " |    |-- numdocksavailable: long (nullable = true)\n",
       " |    |-- stationcode: string (nullable = true)\n",
       "\n"
      ]
     },
     "metadata": {
      "application/vnd.databricks.v1+output": {
       "addedWidgets": {},
       "arguments": {},
       "data": "root\n |-- name: string (nullable = true)\n |-- fields: struct (nullable = true)\n |    |-- capacity: long (nullable = true)\n |    |-- coordonnees_geo: array (nullable = true)\n |    |    |-- element: double (containsNull = true)\n |    |-- duedate: string (nullable = true)\n |    |-- ebike: long (nullable = true)\n |    |-- is_installed: string (nullable = true)\n |    |-- is_renting: string (nullable = true)\n |    |-- is_returning: string (nullable = true)\n |    |-- mechanical: long (nullable = true)\n |    |-- name: string (nullable = true)\n |    |-- nom_arrondissement_communes: string (nullable = true)\n |    |-- numbikesavailable: long (nullable = true)\n |    |-- numdocksavailable: long (nullable = true)\n |    |-- stationcode: string (nullable = true)\n\n",
       "datasetInfos": [],
       "metadata": {},
       "removedWidgets": [],
       "type": "ansi"
      }
     },
     "output_type": "display_data"
    }
   ],
   "source": [
    "df.printSchema()"
   ]
  },
  {
   "cell_type": "code",
   "execution_count": 0,
   "metadata": {
    "application/vnd.databricks.v1+cell": {
     "inputWidgets": {},
     "nuid": "e5ea93fa-111c-40e6-a4c9-2012179169ad",
     "showTitle": false,
     "title": ""
    }
   },
   "outputs": [],
   "source": [
    "df = df.select(col(\"fields.*\"))"
   ]
  },
  {
   "cell_type": "code",
   "execution_count": 0,
   "metadata": {
    "application/vnd.databricks.v1+cell": {
     "inputWidgets": {},
     "nuid": "071c87d0-d992-4376-bb96-06510c465733",
     "showTitle": false,
     "title": ""
    }
   },
   "outputs": [],
   "source": [
    "query = df.writeStream \\\n",
    "          .outputMode(\"append\") \\\n",
    "          .format(\"memory\") \\\n",
    "          .queryName(\"memory_spark\")\\\n",
    "          .start()"
   ]
  },
  {
   "cell_type": "code",
   "execution_count": 0,
   "metadata": {
    "application/vnd.databricks.v1+cell": {
     "inputWidgets": {},
     "nuid": "81099f10-70fd-4419-9b35-e8fd171a3534",
     "showTitle": false,
     "title": ""
    }
   },
   "outputs": [
    {
     "data": {
      "text/html": [
       "<style scoped>\n",
       "  .table-result-container {\n",
       "    max-height: 300px;\n",
       "    overflow: auto;\n",
       "  }\n",
       "  table, th, td {\n",
       "    border: 1px solid black;\n",
       "    border-collapse: collapse;\n",
       "  }\n",
       "  th, td {\n",
       "    padding: 5px;\n",
       "  }\n",
       "  th {\n",
       "    text-align: left;\n",
       "  }\n",
       "</style><div class='table-result-container'><table class='table-result'><thead style='background-color: white'><tr><th>capacity</th><th>coordonnees_geo</th><th>duedate</th><th>ebike</th><th>is_installed</th><th>is_renting</th><th>is_returning</th><th>mechanical</th><th>name</th><th>nom_arrondissement_communes</th><th>numbikesavailable</th><th>numdocksavailable</th><th>stationcode</th></tr></thead><tbody><tr><td>30</td><td>List(48.840855311763, 2.3875549435616)</td><td>2022-08-11T15:06:18+00:00</td><td>5</td><td>OUI</td><td>OUI</td><td>OUI</td><td>14</td><td>Mairie du 12ème</td><td>Paris</td><td>19</td><td>11</td><td>12109</td></tr><tr><td>12</td><td>List(48.875448033960744, 2.315508019010038)</td><td>2022-08-11T15:03:42+00:00</td><td>4</td><td>OUI</td><td>OUI</td><td>OUI</td><td>2</td><td>Messine - Place Du Pérou</td><td>Paris</td><td>6</td><td>6</td><td>8026</td></tr><tr><td>25</td><td>List(48.837525839067, 2.3360354080796)</td><td>2022-08-11T15:06:35+00:00</td><td>2</td><td>OUI</td><td>OUI</td><td>OUI</td><td>3</td><td>Cassini - Denfert-Rochereau</td><td>Paris</td><td>5</td><td>20</td><td>14111</td></tr><tr><td>23</td><td>List(48.84389286531899, 2.3519663885235786)</td><td>2022-08-11T15:09:35+00:00</td><td>3</td><td>OUI</td><td>OUI</td><td>OUI</td><td>1</td><td>Lacépède - Monge</td><td>Paris</td><td>4</td><td>18</td><td>5110</td></tr><tr><td>17</td><td>List(48.84708159081946, 2.321374788880348)</td><td>2022-08-11T15:06:23+00:00</td><td>2</td><td>OUI</td><td>OUI</td><td>OUI</td><td>0</td><td>Saint-Romain - Cherche-Midi</td><td>Paris</td><td>2</td><td>15</td><td>6108</td></tr><tr><td>31</td><td>List(48.91039875761846, 2.3851355910301213)</td><td>2022-08-11T15:05:58+00:00</td><td>3</td><td>OUI</td><td>OUI</td><td>OUI</td><td>1</td><td>André Karman - République</td><td>Aubervilliers</td><td>4</td><td>23</td><td>33006</td></tr><tr><td>27</td><td>List(48.81580226360801, 2.376804985105991)</td><td>2022-08-11T15:11:12+00:00</td><td>4</td><td>OUI</td><td>OUI</td><td>OUI</td><td>11</td><td>Pierre et Marie Curie - Maurice Thorez</td><td>Ivry-sur-Seine</td><td>15</td><td>11</td><td>42016</td></tr><tr><td>50</td><td>List(48.836022242886884, 2.4708339950830287)</td><td>2022-08-11T15:10:59+00:00</td><td>10</td><td>OUI</td><td>OUI</td><td>OUI</td><td>17</td><td>Bois de Vincennes - Gare</td><td>Nogent-sur-Marne</td><td>27</td><td>18</td><td>41301</td></tr><tr><td>20</td><td>List(48.856451985395786, 2.334851883351803)</td><td>2022-08-11T15:11:11+00:00</td><td>2</td><td>OUI</td><td>OUI</td><td>OUI</td><td>8</td><td>Beaux-Arts - Bonaparte</td><td>Paris</td><td>10</td><td>10</td><td>6021</td></tr><tr><td>25</td><td>List(48.835583838706, 2.2325500845909)</td><td>2022-08-11T15:10:13+00:00</td><td>2</td><td>OUI</td><td>OUI</td><td>OUI</td><td>9</td><td>Silly - Galliéni</td><td>Boulogne-Billancourt</td><td>11</td><td>14</td><td>21010</td></tr><tr><td>62</td><td>List(48.876116, 2.288124)</td><td>2022-08-11T15:09:30+00:00</td><td>10</td><td>OUI</td><td>OUI</td><td>OUI</td><td>4</td><td>Grande Armée - Brunel</td><td>Paris</td><td>14</td><td>37</td><td>17038</td></tr><tr><td>60</td><td>List(48.851296433665276, 2.325061820447445)</td><td>2022-08-11T15:11:03+00:00</td><td>3</td><td>OUI</td><td>OUI</td><td>OUI</td><td>15</td><td>Square Boucicaut</td><td>Paris</td><td>18</td><td>42</td><td>7003</td></tr><tr><td>35</td><td>List(48.84856323305935, 2.3204218259345537)</td><td>2022-08-11T15:10:12+00:00</td><td>5</td><td>OUI</td><td>OUI</td><td>OUI</td><td>10</td><td>Vaneau - Sèvres</td><td>Paris</td><td>15</td><td>20</td><td>7002</td></tr><tr><td>17</td><td>List(48.84504716661511, 2.3494647851273465)</td><td>2022-08-11T15:08:41+00:00</td><td>2</td><td>OUI</td><td>OUI</td><td>OUI</td><td>3</td><td>Thouin - Cardinal Lemoine</td><td>Paris</td><td>5</td><td>12</td><td>5016</td></tr><tr><td>43</td><td>List(48.8570414504784, 2.37289470306807)</td><td>2022-08-11T15:09:05+00:00</td><td>4</td><td>OUI</td><td>OUI</td><td>OUI</td><td>7</td><td>Froment - Bréguet</td><td>Paris</td><td>11</td><td>29</td><td>11025</td></tr><tr><td>34</td><td>List(48.830981659316855, 2.3481646925210953)</td><td>2022-08-11T15:06:38+00:00</td><td>1</td><td>OUI</td><td>OUI</td><td>OUI</td><td>3</td><td>Croulebarde - Corvisart</td><td>Paris</td><td>4</td><td>29</td><td>13101</td></tr><tr><td>21</td><td>List(48.82234096593411, 2.327861653302471)</td><td>2022-08-11T15:10:40+00:00</td><td>2</td><td>OUI</td><td>OUI</td><td>OUI</td><td>0</td><td>Le Brix et Mesmin - Jourdan</td><td>Paris</td><td>2</td><td>18</td><td>14108</td></tr><tr><td>38</td><td>List(48.86785, 2.446748)</td><td>2022-08-11T15:10:44+00:00</td><td>1</td><td>OUI</td><td>OUI</td><td>OUI</td><td>0</td><td>Romainville - Vaillant-Couturier</td><td>Montreuil</td><td>1</td><td>37</td><td>31024</td></tr><tr><td>33</td><td>List(48.853844054333514, 2.289705348222022)</td><td>2022-08-11T15:08:46+00:00</td><td>7</td><td>OUI</td><td>OUI</td><td>OUI</td><td>12</td><td>Bir Hakeim</td><td>Paris</td><td>19</td><td>9</td><td>15026</td></tr><tr><td>20</td><td>List(48.79014780960843, 2.43286281824112)</td><td>2022-08-11T15:07:37+00:00</td><td>3</td><td>OUI</td><td>OUI</td><td>OUI</td><td>17</td><td>Liberté - Vert-de-Maisons</td><td>Maisons-Alfort</td><td>20</td><td>0</td><td>47007</td></tr></tbody></table></div>"
      ]
     },
     "metadata": {
      "application/vnd.databricks.v1+output": {
       "addedWidgets": {},
       "aggData": [],
       "aggError": "",
       "aggOverflow": false,
       "aggSchema": [],
       "aggSeriesLimitReached": false,
       "aggType": "",
       "arguments": {},
       "columnCustomDisplayInfos": {},
       "data": [
        [
         30,
         [
          48.840855311763,
          2.3875549435616
         ],
         "2022-08-11T15:06:18+00:00",
         5,
         "OUI",
         "OUI",
         "OUI",
         14,
         "Mairie du 12ème",
         "Paris",
         19,
         11,
         "12109"
        ],
        [
         12,
         [
          48.875448033960744,
          2.315508019010038
         ],
         "2022-08-11T15:03:42+00:00",
         4,
         "OUI",
         "OUI",
         "OUI",
         2,
         "Messine - Place Du Pérou",
         "Paris",
         6,
         6,
         "8026"
        ],
        [
         25,
         [
          48.837525839067,
          2.3360354080796
         ],
         "2022-08-11T15:06:35+00:00",
         2,
         "OUI",
         "OUI",
         "OUI",
         3,
         "Cassini - Denfert-Rochereau",
         "Paris",
         5,
         20,
         "14111"
        ],
        [
         23,
         [
          48.84389286531899,
          2.3519663885235786
         ],
         "2022-08-11T15:09:35+00:00",
         3,
         "OUI",
         "OUI",
         "OUI",
         1,
         "Lacépède - Monge",
         "Paris",
         4,
         18,
         "5110"
        ],
        [
         17,
         [
          48.84708159081946,
          2.321374788880348
         ],
         "2022-08-11T15:06:23+00:00",
         2,
         "OUI",
         "OUI",
         "OUI",
         0,
         "Saint-Romain - Cherche-Midi",
         "Paris",
         2,
         15,
         "6108"
        ],
        [
         31,
         [
          48.91039875761846,
          2.3851355910301213
         ],
         "2022-08-11T15:05:58+00:00",
         3,
         "OUI",
         "OUI",
         "OUI",
         1,
         "André Karman - République",
         "Aubervilliers",
         4,
         23,
         "33006"
        ],
        [
         27,
         [
          48.81580226360801,
          2.376804985105991
         ],
         "2022-08-11T15:11:12+00:00",
         4,
         "OUI",
         "OUI",
         "OUI",
         11,
         "Pierre et Marie Curie - Maurice Thorez",
         "Ivry-sur-Seine",
         15,
         11,
         "42016"
        ],
        [
         50,
         [
          48.836022242886884,
          2.4708339950830287
         ],
         "2022-08-11T15:10:59+00:00",
         10,
         "OUI",
         "OUI",
         "OUI",
         17,
         "Bois de Vincennes - Gare",
         "Nogent-sur-Marne",
         27,
         18,
         "41301"
        ],
        [
         20,
         [
          48.856451985395786,
          2.334851883351803
         ],
         "2022-08-11T15:11:11+00:00",
         2,
         "OUI",
         "OUI",
         "OUI",
         8,
         "Beaux-Arts - Bonaparte",
         "Paris",
         10,
         10,
         "6021"
        ],
        [
         25,
         [
          48.835583838706,
          2.2325500845909
         ],
         "2022-08-11T15:10:13+00:00",
         2,
         "OUI",
         "OUI",
         "OUI",
         9,
         "Silly - Galliéni",
         "Boulogne-Billancourt",
         11,
         14,
         "21010"
        ],
        [
         62,
         [
          48.876116,
          2.288124
         ],
         "2022-08-11T15:09:30+00:00",
         10,
         "OUI",
         "OUI",
         "OUI",
         4,
         "Grande Armée - Brunel",
         "Paris",
         14,
         37,
         "17038"
        ],
        [
         60,
         [
          48.851296433665276,
          2.325061820447445
         ],
         "2022-08-11T15:11:03+00:00",
         3,
         "OUI",
         "OUI",
         "OUI",
         15,
         "Square Boucicaut",
         "Paris",
         18,
         42,
         "7003"
        ],
        [
         35,
         [
          48.84856323305935,
          2.3204218259345537
         ],
         "2022-08-11T15:10:12+00:00",
         5,
         "OUI",
         "OUI",
         "OUI",
         10,
         "Vaneau - Sèvres",
         "Paris",
         15,
         20,
         "7002"
        ],
        [
         17,
         [
          48.84504716661511,
          2.3494647851273465
         ],
         "2022-08-11T15:08:41+00:00",
         2,
         "OUI",
         "OUI",
         "OUI",
         3,
         "Thouin - Cardinal Lemoine",
         "Paris",
         5,
         12,
         "5016"
        ],
        [
         43,
         [
          48.8570414504784,
          2.37289470306807
         ],
         "2022-08-11T15:09:05+00:00",
         4,
         "OUI",
         "OUI",
         "OUI",
         7,
         "Froment - Bréguet",
         "Paris",
         11,
         29,
         "11025"
        ],
        [
         34,
         [
          48.830981659316855,
          2.3481646925210953
         ],
         "2022-08-11T15:06:38+00:00",
         1,
         "OUI",
         "OUI",
         "OUI",
         3,
         "Croulebarde - Corvisart",
         "Paris",
         4,
         29,
         "13101"
        ],
        [
         21,
         [
          48.82234096593411,
          2.327861653302471
         ],
         "2022-08-11T15:10:40+00:00",
         2,
         "OUI",
         "OUI",
         "OUI",
         0,
         "Le Brix et Mesmin - Jourdan",
         "Paris",
         2,
         18,
         "14108"
        ],
        [
         38,
         [
          48.86785,
          2.446748
         ],
         "2022-08-11T15:10:44+00:00",
         1,
         "OUI",
         "OUI",
         "OUI",
         0,
         "Romainville - Vaillant-Couturier",
         "Montreuil",
         1,
         37,
         "31024"
        ],
        [
         33,
         [
          48.853844054333514,
          2.289705348222022
         ],
         "2022-08-11T15:08:46+00:00",
         7,
         "OUI",
         "OUI",
         "OUI",
         12,
         "Bir Hakeim",
         "Paris",
         19,
         9,
         "15026"
        ],
        [
         20,
         [
          48.79014780960843,
          2.43286281824112
         ],
         "2022-08-11T15:07:37+00:00",
         3,
         "OUI",
         "OUI",
         "OUI",
         17,
         "Liberté - Vert-de-Maisons",
         "Maisons-Alfort",
         20,
         0,
         "47007"
        ]
       ],
       "datasetInfos": [],
       "dbfsResultPath": null,
       "isJsonSchema": true,
       "metadata": {
        "isDbfsCommandResult": false
       },
       "overflow": false,
       "plotOptions": {
        "customPlotOptions": {},
        "displayType": "table",
        "pivotAggregation": null,
        "pivotColumns": null,
        "xColumns": null,
        "yColumns": null
       },
       "removedWidgets": [],
       "schema": [
        {
         "metadata": "{}",
         "name": "capacity",
         "type": "\"long\""
        },
        {
         "metadata": "{}",
         "name": "coordonnees_geo",
         "type": "{\"type\":\"array\",\"elementType\":\"double\",\"containsNull\":true}"
        },
        {
         "metadata": "{}",
         "name": "duedate",
         "type": "\"string\""
        },
        {
         "metadata": "{}",
         "name": "ebike",
         "type": "\"long\""
        },
        {
         "metadata": "{}",
         "name": "is_installed",
         "type": "\"string\""
        },
        {
         "metadata": "{}",
         "name": "is_renting",
         "type": "\"string\""
        },
        {
         "metadata": "{}",
         "name": "is_returning",
         "type": "\"string\""
        },
        {
         "metadata": "{}",
         "name": "mechanical",
         "type": "\"long\""
        },
        {
         "metadata": "{}",
         "name": "name",
         "type": "\"string\""
        },
        {
         "metadata": "{}",
         "name": "nom_arrondissement_communes",
         "type": "\"string\""
        },
        {
         "metadata": "{}",
         "name": "numbikesavailable",
         "type": "\"long\""
        },
        {
         "metadata": "{}",
         "name": "numdocksavailable",
         "type": "\"long\""
        },
        {
         "metadata": "{}",
         "name": "stationcode",
         "type": "\"string\""
        }
       ],
       "type": "table"
      }
     },
     "output_type": "display_data"
    }
   ],
   "source": [
    "%sql select * from memory_spark"
   ]
  },
  {
   "cell_type": "code",
   "execution_count": 0,
   "metadata": {
    "application/vnd.databricks.v1+cell": {
     "inputWidgets": {},
     "nuid": "e800067e-42d8-47bb-b280-e805a34943e6",
     "showTitle": false,
     "title": ""
    }
   },
   "outputs": [],
   "source": []
  }
 ],
 "metadata": {
  "application/vnd.databricks.v1+notebook": {
   "dashboards": [],
   "language": "python",
   "notebookMetadata": {
    "pythonIndentUnit": 4
   },
   "notebookName": "Projet_Spark",
   "notebookOrigID": 226927302834564,
   "widgets": {}
  },
  "kernelspec": {
   "display_name": "Python 3 (ipykernel)",
   "language": "python",
   "name": "python3"
  },
  "language_info": {
   "codemirror_mode": {
    "name": "ipython",
    "version": 3
   },
   "file_extension": ".py",
   "mimetype": "text/x-python",
   "name": "python",
   "nbconvert_exporter": "python",
   "pygments_lexer": "ipython3",
   "version": "3.10.4"
  }
 },
 "nbformat": 4,
 "nbformat_minor": 1
}
