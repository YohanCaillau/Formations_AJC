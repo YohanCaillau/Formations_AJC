{
  "nbformat": 4,
  "nbformat_minor": 0,
  "metadata": {
    "colab": {
      "name": "Mini_Projet.ipynb",
      "provenance": [],
      "collapsed_sections": []
    },
    "kernelspec": {
      "name": "python3",
      "display_name": "Python 3"
    },
    "language_info": {
      "name": "python"
    }
  },
  "cells": [
    {
      "cell_type": "code",
      "source": [
        "#!pip install findspark"
      ],
      "metadata": {
        "id": "id1OA_Rdh2gE"
      },
      "execution_count": 1,
      "outputs": []
    },
    {
      "cell_type": "code",
      "source": [
        "#!pip install pyspark"
      ],
      "metadata": {
        "id": "p-CIpVyvh_MX"
      },
      "execution_count": 2,
      "outputs": []
    },
    {
      "cell_type": "code",
      "source": [
        "#!pip install kafka-python"
      ],
      "metadata": {
        "id": "R3vBmZ8cnLpH"
      },
      "execution_count": 3,
      "outputs": []
    },
    {
      "cell_type": "code",
      "execution_count": 4,
      "metadata": {
        "id": "0UtT2UyohoDU"
      },
      "outputs": [],
      "source": [
        "import findspark\n",
        "from pyspark.sql import SparkSession\n",
        "from pyspark.context import SparkContext\n",
        "from pyspark.sql import SQLContext\n",
        "from pyspark.sql import Row\n",
        "import pyspark.sql.functions as F\n",
        "from pyspark.sql.functions import *\n",
        "from pyspark.sql.types import *\n",
        "from pyspark.streaming import StreamingContext\n",
        "from pyspark.sql.functions import from_json\n",
        "from pyspark.sql.functions import schema_of_json"
      ]
    },
    {
      "cell_type": "code",
      "source": [
        "#Initialisation de findspark\n",
        "findspark.init()"
      ],
      "metadata": {
        "id": "sAV39ONNzL8a"
      },
      "execution_count": 5,
      "outputs": []
    },
    {
      "cell_type": "code",
      "source": [
        "spark = (SparkSession.builder.appName(\"Kafka Pyspark Streaming Learning\")\n",
        "        .master(\"local[*]\")\n",
        "        .config(\"spark.jars.packages\", \"org.apache.spark:spark-sql-kafka-0-10_2.12:3.3.0\")\n",
        "        .getOrCreate())\n",
        "spark.sparkContext.setLogLevel(\"ERROR\")"
      ],
      "metadata": {
        "id": "ODm6ttDOobvq"
      },
      "execution_count": 6,
      "outputs": []
    },
    {
      "cell_type": "code",
      "source": [
        "\"\"\"\n",
        "KAFKA_TOPIC_NAME = \"vlib_status_ville\"\n",
        "KAFKA_BOOTSTRAP_SERVER = \"51.38.185.58:9092\"\n",
        "    \n",
        "df = (\n",
        "    spark.readStream.format(\"kafka\")\n",
        "    .option(\"kafka.bootstrap.servers\", KAFKA_BOOTSTRAP_SERVER)\n",
        "    .option(\"subscribe\", KAFKA_TOPIC_NAME)\n",
        "    .option(\"startingOffsets\", \"latest\")\n",
        "    .load(\"streaming\")\n",
        "    .selectExpr(\"CAST(value as STRING)\")\n",
        ")\n",
        "\n",
        "schema = StructType([\n",
        "StructField(\"name\",StringType(),True), \n",
        "StructField(\"station_code\",StringType(),True), \n",
        "StructField(\"ebike\",StringType(),True),\n",
        "StructField(\"mechanical\", StringType(), True),\n",
        "StructField(\"coordonnees_geo\", StringType(), True),\n",
        "StructField(\"duedate\", StringType(), True),\n",
        "StructField(\"numbikesavailable\", StringType(), True),\n",
        "StructField(\"numdocksavailable\", StringType(), True),\n",
        "StructField(\"capacity\", StringType(), True),\n",
        "StructField(\"is_renting\", StringType(), True),\n",
        "StructField(\"is_installed\", StringType(), True),\n",
        "StructField(\"nom_arrondissement_communes\", StringType(), True),\n",
        "StructField(\"is_returning\", StringType(), True),\n",
        "StructField(\"geometry\", StringType(), True),\n",
        "StructField(\"coordinates\", StringType(), True),\n",
        "StructField(\"record_timestamp\", StringType(), True)])\n",
        "\n",
        "#jschema = schema_of_json('{a: 1}', {'allowUnquotedFieldNames':'true'})\n",
        "\n",
        "print(df.schema)\n",
        "print(df.isStreaming)\n",
        "\n",
        "#df2 = df.select(from_json(col(\"value\").cast(\"string\"), schema= schema).alias(\"new_value\"))\n",
        "final_df = df.select('value', F.get_json_object('value', 'value.fields').alias('schemeCode'))\n",
        "\n",
        "#final_df.show(truncate=False)\n",
        "\n",
        "query = final_df \\\n",
        ".writeStream \\\n",
        ".format(\"json\")\\\n",
        ".option(\"path\", \"velib_data_clean_1\")\\\n",
        ".option(\"checkpointLocation\", \"checkpoints\")\\\n",
        ".start()\n",
        "\n",
        "query.awaitTermination()\n",
        "\"\"\""
      ],
      "metadata": {
        "colab": {
          "base_uri": "https://localhost:8080/",
          "height": 122
        },
        "id": "TuwC3PB0qIIO",
        "outputId": "01fdcfd2-f612-46f4-f548-b8c5c22bf385"
      },
      "execution_count": 7,
      "outputs": [
        {
          "output_type": "execute_result",
          "data": {
            "text/plain": [
              "'\\nKAFKA_TOPIC_NAME = \"vlib_status_ville\"\\nKAFKA_BOOTSTRAP_SERVER = \"51.38.185.58:9092\"\\n    \\ndf = (\\n    spark.readStream.format(\"kafka\")\\n    .option(\"kafka.bootstrap.servers\", KAFKA_BOOTSTRAP_SERVER)\\n    .option(\"subscribe\", KAFKA_TOPIC_NAME)\\n    .option(\"startingOffsets\", \"latest\")\\n    .load(\"streaming\")\\n    .selectExpr(\"CAST(value as STRING)\")\\n)\\n\\nschema = StructType([\\nStructField(\"name\",StringType(),True), \\nStructField(\"station_code\",StringType(),True), \\nStructField(\"ebike\",StringType(),True),\\nStructField(\"mechanical\", StringType(), True),\\nStructField(\"coordonnees_geo\", StringType(), True),\\nStructField(\"duedate\", StringType(), True),\\nStructField(\"numbikesavailable\", StringType(), True),\\nStructField(\"numdocksavailable\", StringType(), True),\\nStructField(\"capacity\", StringType(), True),\\nStructField(\"is_renting\", StringType(), True),\\nStructField(\"is_installed\", StringType(), True),\\nStructField(\"nom_arrondissement_communes\", StringType(), True),\\nStructField(\"is_returning\", StringType(), True),\\nStructField(\"geometry\", StringType(), True),\\nStructField(\"coordinates\", StringType(), True),\\nStructField(\"record_timestamp\", StringType(), True)])\\n\\n#jschema = schema_of_json(\\'{a: 1}\\', {\\'allowUnquotedFieldNames\\':\\'true\\'})\\n\\nprint(df.schema)\\nprint(df.isStreaming)\\n\\n#df2 = df.select(from_json(col(\"value\").cast(\"string\"), schema= schema).alias(\"new_value\"))\\nfinal_df = df.select(\\'value\\', F.get_json_object(\\'value\\', \\'value.fields\\').alias(\\'schemeCode\\'))\\n\\n#final_df.show(truncate=False)\\n\\nquery = final_df .writeStream .format(\"json\").option(\"path\", \"velib_data_clean_1\").option(\"checkpointLocation\", \"checkpoints\").start()\\n\\nquery.awaitTermination()\\n'"
            ],
            "application/vnd.google.colaboratory.intrinsic+json": {
              "type": "string"
            }
          },
          "metadata": {},
          "execution_count": 7
        }
      ]
    },
    {
      "cell_type": "code",
      "source": [
        "raw_json = spark.read.json(\"test.json\", multiLine=True)"
      ],
      "metadata": {
        "id": "EILCDu63cp6W"
      },
      "execution_count": 8,
      "outputs": []
    },
    {
      "cell_type": "code",
      "source": [
        "KAFKA_TOPIC_NAME = \"vlib_status_ville\"\n",
        "KAFKA_BOOTSTRAP_SERVER = \"51.38.185.58:9092\"\n",
        "\n",
        "df = (\n",
        "spark.readStream.format(\"kafka\")\n",
        ".option(\"kafka.bootstrap.servers\", KAFKA_BOOTSTRAP_SERVER)\n",
        ".option(\"subscribe\", KAFKA_TOPIC_NAME)\n",
        ".option(\"startingOffsets\", \"latest\")\n",
        ".load()\n",
        ".withColumn(\"value\", from_json(col(\"value\").cast(\"string\"), raw_json.schema))\\\n",
        ".select(col('value.fields.name'), col('value.datasetid'), col('value.*'))\\\n",
        ")\n",
        "\n",
        "print(df.schema)\n",
        "print(df.isStreaming)  \n",
        "\n",
        "query = df \\\n",
        "    .writeStream \\\n",
        "    .format(\"json\") \\\n",
        "    .option(\"path\", \"vlib_data_json\") \\\n",
        "    .option(\"checkpointLocation\", \"checkpoint\") \\\n",
        "    .start()\n",
        "\n",
        "query.awaitTermination()"
      ],
      "metadata": {
        "colab": {
          "base_uri": "https://localhost:8080/",
          "height": 556
        },
        "id": "Hs5YXLcVcl8E",
        "outputId": "239db7fd-76df-45a9-a69a-abe4ba32ba6a"
      },
      "execution_count": 9,
      "outputs": [
        {
          "output_type": "stream",
          "name": "stdout",
          "text": [
            "StructType([StructField('name', StringType(), True), StructField('datasetid', StringType(), True), StructField('datasetid', StringType(), True), StructField('fields', StructType([StructField('capacity', LongType(), True), StructField('coordonnees_geo', ArrayType(DoubleType(), True), True), StructField('duedate', StringType(), True), StructField('ebike', LongType(), True), StructField('is_installed', StringType(), True), StructField('is_renting', StringType(), True), StructField('is_returning', StringType(), True), StructField('mechanical', LongType(), True), StructField('name', StringType(), True), StructField('nom_arrondissement_communes', StringType(), True), StructField('numbikesavailable', LongType(), True), StructField('numdocksavailable', LongType(), True), StructField('stationcode', StringType(), True)]), True), StructField('geometry', StructType([StructField('coordinates', ArrayType(DoubleType(), True), True), StructField('type', StringType(), True)]), True), StructField('record_timestamp', StringType(), True), StructField('recordid', StringType(), True)])\n",
            "True\n"
          ]
        },
        {
          "output_type": "stream",
          "name": "stderr",
          "text": [
            "ERROR:root:KeyboardInterrupt while sending command.\n",
            "Traceback (most recent call last):\n",
            "  File \"/usr/local/lib/python3.7/dist-packages/py4j/java_gateway.py\", line 1038, in send_command\n",
            "    response = connection.send_command(command)\n",
            "  File \"/usr/local/lib/python3.7/dist-packages/py4j/clientserver.py\", line 511, in send_command\n",
            "    answer = smart_decode(self.stream.readline()[:-1])\n",
            "  File \"/usr/lib/python3.7/socket.py\", line 589, in readinto\n",
            "    return self._sock.recv_into(b)\n",
            "KeyboardInterrupt\n"
          ]
        },
        {
          "output_type": "error",
          "ename": "KeyboardInterrupt",
          "evalue": "ignored",
          "traceback": [
            "\u001b[0;31m---------------------------------------------------------------------------\u001b[0m",
            "\u001b[0;31mKeyboardInterrupt\u001b[0m                         Traceback (most recent call last)",
            "\u001b[0;32m<ipython-input-9-1884114bc27d>\u001b[0m in \u001b[0;36m<module>\u001b[0;34m()\u001b[0m\n\u001b[1;32m     23\u001b[0m \u001b[0mquery\u001b[0m \u001b[0;34m=\u001b[0m \u001b[0mdf\u001b[0m     \u001b[0;34m.\u001b[0m\u001b[0mwriteStream\u001b[0m     \u001b[0;34m.\u001b[0m\u001b[0mformat\u001b[0m\u001b[0;34m(\u001b[0m\u001b[0;34m\"json\"\u001b[0m\u001b[0;34m)\u001b[0m     \u001b[0;34m.\u001b[0m\u001b[0moption\u001b[0m\u001b[0;34m(\u001b[0m\u001b[0;34m\"path\"\u001b[0m\u001b[0;34m,\u001b[0m \u001b[0;34m\"vlib_data_json\"\u001b[0m\u001b[0;34m)\u001b[0m     \u001b[0;34m.\u001b[0m\u001b[0moption\u001b[0m\u001b[0;34m(\u001b[0m\u001b[0;34m\"checkpointLocation\"\u001b[0m\u001b[0;34m,\u001b[0m \u001b[0;34m\"checkpoint\"\u001b[0m\u001b[0;34m)\u001b[0m     \u001b[0;34m.\u001b[0m\u001b[0mstart\u001b[0m\u001b[0;34m(\u001b[0m\u001b[0;34m)\u001b[0m\u001b[0;34m\u001b[0m\u001b[0;34m\u001b[0m\u001b[0m\n\u001b[1;32m     24\u001b[0m \u001b[0;34m\u001b[0m\u001b[0m\n\u001b[0;32m---> 25\u001b[0;31m \u001b[0mquery\u001b[0m\u001b[0;34m.\u001b[0m\u001b[0mawaitTermination\u001b[0m\u001b[0;34m(\u001b[0m\u001b[0;34m)\u001b[0m\u001b[0;34m\u001b[0m\u001b[0;34m\u001b[0m\u001b[0m\n\u001b[0m",
            "\u001b[0;32m/usr/local/lib/python3.7/dist-packages/pyspark/sql/streaming.py\u001b[0m in \u001b[0;36mawaitTermination\u001b[0;34m(self, timeout)\u001b[0m\n\u001b[1;32m    105\u001b[0m             \u001b[0;32mreturn\u001b[0m \u001b[0mself\u001b[0m\u001b[0;34m.\u001b[0m\u001b[0m_jsq\u001b[0m\u001b[0;34m.\u001b[0m\u001b[0mawaitTermination\u001b[0m\u001b[0;34m(\u001b[0m\u001b[0mint\u001b[0m\u001b[0;34m(\u001b[0m\u001b[0mtimeout\u001b[0m \u001b[0;34m*\u001b[0m \u001b[0;36m1000\u001b[0m\u001b[0;34m)\u001b[0m\u001b[0;34m)\u001b[0m\u001b[0;34m\u001b[0m\u001b[0;34m\u001b[0m\u001b[0m\n\u001b[1;32m    106\u001b[0m         \u001b[0;32melse\u001b[0m\u001b[0;34m:\u001b[0m\u001b[0;34m\u001b[0m\u001b[0;34m\u001b[0m\u001b[0m\n\u001b[0;32m--> 107\u001b[0;31m             \u001b[0;32mreturn\u001b[0m \u001b[0mself\u001b[0m\u001b[0;34m.\u001b[0m\u001b[0m_jsq\u001b[0m\u001b[0;34m.\u001b[0m\u001b[0mawaitTermination\u001b[0m\u001b[0;34m(\u001b[0m\u001b[0;34m)\u001b[0m\u001b[0;34m\u001b[0m\u001b[0;34m\u001b[0m\u001b[0m\n\u001b[0m\u001b[1;32m    108\u001b[0m \u001b[0;34m\u001b[0m\u001b[0m\n\u001b[1;32m    109\u001b[0m     \u001b[0;34m@\u001b[0m\u001b[0mproperty\u001b[0m  \u001b[0;31m# type: ignore[misc]\u001b[0m\u001b[0;34m\u001b[0m\u001b[0;34m\u001b[0m\u001b[0m\n",
            "\u001b[0;32m/usr/local/lib/python3.7/dist-packages/py4j/java_gateway.py\u001b[0m in \u001b[0;36m__call__\u001b[0;34m(self, *args)\u001b[0m\n\u001b[1;32m   1318\u001b[0m             \u001b[0mproto\u001b[0m\u001b[0;34m.\u001b[0m\u001b[0mEND_COMMAND_PART\u001b[0m\u001b[0;34m\u001b[0m\u001b[0;34m\u001b[0m\u001b[0m\n\u001b[1;32m   1319\u001b[0m \u001b[0;34m\u001b[0m\u001b[0m\n\u001b[0;32m-> 1320\u001b[0;31m         \u001b[0manswer\u001b[0m \u001b[0;34m=\u001b[0m \u001b[0mself\u001b[0m\u001b[0;34m.\u001b[0m\u001b[0mgateway_client\u001b[0m\u001b[0;34m.\u001b[0m\u001b[0msend_command\u001b[0m\u001b[0;34m(\u001b[0m\u001b[0mcommand\u001b[0m\u001b[0;34m)\u001b[0m\u001b[0;34m\u001b[0m\u001b[0;34m\u001b[0m\u001b[0m\n\u001b[0m\u001b[1;32m   1321\u001b[0m         return_value = get_return_value(\n\u001b[1;32m   1322\u001b[0m             answer, self.gateway_client, self.target_id, self.name)\n",
            "\u001b[0;32m/usr/local/lib/python3.7/dist-packages/py4j/java_gateway.py\u001b[0m in \u001b[0;36msend_command\u001b[0;34m(self, command, retry, binary)\u001b[0m\n\u001b[1;32m   1036\u001b[0m         \u001b[0mconnection\u001b[0m \u001b[0;34m=\u001b[0m \u001b[0mself\u001b[0m\u001b[0;34m.\u001b[0m\u001b[0m_get_connection\u001b[0m\u001b[0;34m(\u001b[0m\u001b[0;34m)\u001b[0m\u001b[0;34m\u001b[0m\u001b[0;34m\u001b[0m\u001b[0m\n\u001b[1;32m   1037\u001b[0m         \u001b[0;32mtry\u001b[0m\u001b[0;34m:\u001b[0m\u001b[0;34m\u001b[0m\u001b[0;34m\u001b[0m\u001b[0m\n\u001b[0;32m-> 1038\u001b[0;31m             \u001b[0mresponse\u001b[0m \u001b[0;34m=\u001b[0m \u001b[0mconnection\u001b[0m\u001b[0;34m.\u001b[0m\u001b[0msend_command\u001b[0m\u001b[0;34m(\u001b[0m\u001b[0mcommand\u001b[0m\u001b[0;34m)\u001b[0m\u001b[0;34m\u001b[0m\u001b[0;34m\u001b[0m\u001b[0m\n\u001b[0m\u001b[1;32m   1039\u001b[0m             \u001b[0;32mif\u001b[0m \u001b[0mbinary\u001b[0m\u001b[0;34m:\u001b[0m\u001b[0;34m\u001b[0m\u001b[0;34m\u001b[0m\u001b[0m\n\u001b[1;32m   1040\u001b[0m                 \u001b[0;32mreturn\u001b[0m \u001b[0mresponse\u001b[0m\u001b[0;34m,\u001b[0m \u001b[0mself\u001b[0m\u001b[0;34m.\u001b[0m\u001b[0m_create_connection_guard\u001b[0m\u001b[0;34m(\u001b[0m\u001b[0mconnection\u001b[0m\u001b[0;34m)\u001b[0m\u001b[0;34m\u001b[0m\u001b[0;34m\u001b[0m\u001b[0m\n",
            "\u001b[0;32m/usr/local/lib/python3.7/dist-packages/py4j/clientserver.py\u001b[0m in \u001b[0;36msend_command\u001b[0;34m(self, command)\u001b[0m\n\u001b[1;32m    509\u001b[0m         \u001b[0;32mtry\u001b[0m\u001b[0;34m:\u001b[0m\u001b[0;34m\u001b[0m\u001b[0;34m\u001b[0m\u001b[0m\n\u001b[1;32m    510\u001b[0m             \u001b[0;32mwhile\u001b[0m \u001b[0;32mTrue\u001b[0m\u001b[0;34m:\u001b[0m\u001b[0;34m\u001b[0m\u001b[0;34m\u001b[0m\u001b[0m\n\u001b[0;32m--> 511\u001b[0;31m                 \u001b[0manswer\u001b[0m \u001b[0;34m=\u001b[0m \u001b[0msmart_decode\u001b[0m\u001b[0;34m(\u001b[0m\u001b[0mself\u001b[0m\u001b[0;34m.\u001b[0m\u001b[0mstream\u001b[0m\u001b[0;34m.\u001b[0m\u001b[0mreadline\u001b[0m\u001b[0;34m(\u001b[0m\u001b[0;34m)\u001b[0m\u001b[0;34m[\u001b[0m\u001b[0;34m:\u001b[0m\u001b[0;34m-\u001b[0m\u001b[0;36m1\u001b[0m\u001b[0;34m]\u001b[0m\u001b[0;34m)\u001b[0m\u001b[0;34m\u001b[0m\u001b[0;34m\u001b[0m\u001b[0m\n\u001b[0m\u001b[1;32m    512\u001b[0m                 \u001b[0mlogger\u001b[0m\u001b[0;34m.\u001b[0m\u001b[0mdebug\u001b[0m\u001b[0;34m(\u001b[0m\u001b[0;34m\"Answer received: {0}\"\u001b[0m\u001b[0;34m.\u001b[0m\u001b[0mformat\u001b[0m\u001b[0;34m(\u001b[0m\u001b[0manswer\u001b[0m\u001b[0;34m)\u001b[0m\u001b[0;34m)\u001b[0m\u001b[0;34m\u001b[0m\u001b[0;34m\u001b[0m\u001b[0m\n\u001b[1;32m    513\u001b[0m                 \u001b[0;31m# Happens when a the other end is dead. There might be an empty\u001b[0m\u001b[0;34m\u001b[0m\u001b[0;34m\u001b[0m\u001b[0;34m\u001b[0m\u001b[0m\n",
            "\u001b[0;32m/usr/lib/python3.7/socket.py\u001b[0m in \u001b[0;36mreadinto\u001b[0;34m(self, b)\u001b[0m\n\u001b[1;32m    587\u001b[0m         \u001b[0;32mwhile\u001b[0m \u001b[0;32mTrue\u001b[0m\u001b[0;34m:\u001b[0m\u001b[0;34m\u001b[0m\u001b[0;34m\u001b[0m\u001b[0m\n\u001b[1;32m    588\u001b[0m             \u001b[0;32mtry\u001b[0m\u001b[0;34m:\u001b[0m\u001b[0;34m\u001b[0m\u001b[0;34m\u001b[0m\u001b[0m\n\u001b[0;32m--> 589\u001b[0;31m                 \u001b[0;32mreturn\u001b[0m \u001b[0mself\u001b[0m\u001b[0;34m.\u001b[0m\u001b[0m_sock\u001b[0m\u001b[0;34m.\u001b[0m\u001b[0mrecv_into\u001b[0m\u001b[0;34m(\u001b[0m\u001b[0mb\u001b[0m\u001b[0;34m)\u001b[0m\u001b[0;34m\u001b[0m\u001b[0;34m\u001b[0m\u001b[0m\n\u001b[0m\u001b[1;32m    590\u001b[0m             \u001b[0;32mexcept\u001b[0m \u001b[0mtimeout\u001b[0m\u001b[0;34m:\u001b[0m\u001b[0;34m\u001b[0m\u001b[0;34m\u001b[0m\u001b[0m\n\u001b[1;32m    591\u001b[0m                 \u001b[0mself\u001b[0m\u001b[0;34m.\u001b[0m\u001b[0m_timeout_occurred\u001b[0m \u001b[0;34m=\u001b[0m \u001b[0;32mTrue\u001b[0m\u001b[0;34m\u001b[0m\u001b[0;34m\u001b[0m\u001b[0m\n",
            "\u001b[0;31mKeyboardInterrupt\u001b[0m: "
          ]
        }
      ]
    },
    {
      "cell_type": "code",
      "source": [
        "%sql select * from memory_spark"
      ],
      "metadata": {
        "colab": {
          "base_uri": "https://localhost:8080/"
        },
        "id": "ITld9NgQfpre",
        "outputId": "1423239a-d4d4-4376-c190-481b053a8365"
      },
      "execution_count": null,
      "outputs": [
        {
          "output_type": "stream",
          "name": "stderr",
          "text": [
            "UsageError: Line magic function `%sql` not found.\n"
          ]
        }
      ]
    }
  ]
}