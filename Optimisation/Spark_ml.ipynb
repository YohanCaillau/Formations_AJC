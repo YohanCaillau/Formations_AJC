{
  "nbformat": 4,
  "nbformat_minor": 0,
  "metadata": {
    "colab": {
      "name": "Spark_ml.ipynb",
      "provenance": [],
      "collapsed_sections": []
    },
    "kernelspec": {
      "name": "python3",
      "display_name": "Python 3"
    },
    "language_info": {
      "name": "python"
    }
  },
  "cells": [
    {
      "cell_type": "markdown",
      "source": [
        "# Spark ML"
      ],
      "metadata": {
        "id": "bmJTk1zOZ5Oh"
      }
    },
    {
      "cell_type": "markdown",
      "source": [
        "## Install"
      ],
      "metadata": {
        "id": "5q7W_P2rZ8wt"
      }
    },
    {
      "cell_type": "code",
      "source": [
        "!pip install pyspark"
      ],
      "metadata": {
        "colab": {
          "base_uri": "https://localhost:8080/"
        },
        "id": "OJS_U-ZeSy3K",
        "outputId": "11b58647-0bb0-45b0-d0c8-d3f15a6ad089"
      },
      "execution_count": 2,
      "outputs": [
        {
          "output_type": "stream",
          "name": "stdout",
          "text": [
            "Looking in indexes: https://pypi.org/simple, https://us-python.pkg.dev/colab-wheels/public/simple/\n",
            "Collecting pyspark\n",
            "  Downloading pyspark-3.3.0.tar.gz (281.3 MB)\n",
            "\u001b[K     |████████████████████████████████| 281.3 MB 47 kB/s \n",
            "\u001b[?25hCollecting py4j==0.10.9.5\n",
            "  Downloading py4j-0.10.9.5-py2.py3-none-any.whl (199 kB)\n",
            "\u001b[K     |████████████████████████████████| 199 kB 38.1 MB/s \n",
            "\u001b[?25hBuilding wheels for collected packages: pyspark\n",
            "  Building wheel for pyspark (setup.py) ... \u001b[?25l\u001b[?25hdone\n",
            "  Created wheel for pyspark: filename=pyspark-3.3.0-py2.py3-none-any.whl size=281764026 sha256=832d845884aa1aec9dce583c3db0b6a8d46ba4a070d2896a7e5d79711a085a0d\n",
            "  Stored in directory: /root/.cache/pip/wheels/7a/8e/1b/f73a52650d2e5f337708d9f6a1750d451a7349a867f928b885\n",
            "Successfully built pyspark\n",
            "Installing collected packages: py4j, pyspark\n",
            "Successfully installed py4j-0.10.9.5 pyspark-3.3.0\n"
          ]
        }
      ]
    },
    {
      "cell_type": "code",
      "source": [
        "!pip install findspark"
      ],
      "metadata": {
        "colab": {
          "base_uri": "https://localhost:8080/"
        },
        "id": "ov-EukaTS6DZ",
        "outputId": "6ccfb3c3-ce7f-4e9c-c305-861d133598fd"
      },
      "execution_count": 3,
      "outputs": [
        {
          "output_type": "stream",
          "name": "stdout",
          "text": [
            "Looking in indexes: https://pypi.org/simple, https://us-python.pkg.dev/colab-wheels/public/simple/\n",
            "Collecting findspark\n",
            "  Downloading findspark-2.0.1-py2.py3-none-any.whl (4.4 kB)\n",
            "Installing collected packages: findspark\n",
            "Successfully installed findspark-2.0.1\n"
          ]
        }
      ]
    },
    {
      "cell_type": "markdown",
      "source": [
        "## Import"
      ],
      "metadata": {
        "id": "Q5vXBvVVZ_3-"
      }
    },
    {
      "cell_type": "code",
      "execution_count": 4,
      "metadata": {
        "id": "lmar4xpoStFu"
      },
      "outputs": [],
      "source": [
        "from pyspark.sql import SparkSession\n",
        "import pyspark\n",
        "import findspark\n",
        "from pyspark.sql import SparkSession\n",
        "from pyspark import SparkContext\n",
        "from pyspark.sql.types import *\n",
        "from pyspark.sql.functions import *\n",
        "from pyspark.sql import SQLContext\n",
        "import pyspark.sql.functions as F\n",
        "from pyspark.sql import DataFrameReader"
      ]
    },
    {
      "cell_type": "markdown",
      "source": [
        "## Create the Spark Session"
      ],
      "metadata": {
        "id": "n2n5b6i_aD-X"
      }
    },
    {
      "cell_type": "code",
      "source": [
        "#Initialisation de findspark\n",
        "findspark.init()"
      ],
      "metadata": {
        "id": "k-5ehSmdTLF4"
      },
      "execution_count": 5,
      "outputs": []
    },
    {
      "cell_type": "code",
      "source": [
        "#Création du SparkSession\n",
        "spark = SparkSession.builder.appName(\"Exemple Spark\").getOrCreate()\n",
        "sc = SparkContext.getOrCreate()"
      ],
      "metadata": {
        "id": "Pf3oFfmiTNE4"
      },
      "execution_count": 6,
      "outputs": []
    },
    {
      "cell_type": "markdown",
      "source": [
        "## Load the data and change the units"
      ],
      "metadata": {
        "id": "i2KeEVeQaHtF"
      }
    },
    {
      "cell_type": "code",
      "source": [
        "df = spark.read.format(\"csv\").option(\"header\",\"true\").load(\"/content/houses.csv\")\n",
        "df.show()"
      ],
      "metadata": {
        "colab": {
          "base_uri": "https://localhost:8080/"
        },
        "id": "qo7PJkRJTQAW",
        "outputId": "59a8592c-7baf-4615-fdf4-a4fd74652b6f"
      },
      "execution_count": 7,
      "outputs": [
        {
          "output_type": "stream",
          "name": "stdout",
          "text": [
            "+------------------+--------+------+-----------+------------------+\n",
            "|              size|nb_rooms|garden|orientation|             price|\n",
            "+------------------+--------+------+-----------+------------------+\n",
            "|  116.300633073418|       1|     1|        Sud| 284413.3068710591|\n",
            "| 194.3028748040095|       2|     0|       Nord|237354.82009708052|\n",
            "| 92.69496171573587|       2|     0|      Ouest|225301.99878400558|\n",
            "|116.47994613889072|       2|     0|       Nord|214482.04415369357|\n",
            "|138.25642489718405|       2|     1|        Est| 289134.2657668252|\n",
            "| 254.9083895514043|       1|     1|       Nord| 279516.8787203982|\n",
            "|116.24576857935243|       3|     1|        Sud|  324392.254300987|\n",
            "|110.88938812358977|       2|     0|        Est|229287.98497631942|\n",
            "|157.73240249812508|       1|     0|       Nord|208024.89015503184|\n",
            "| 144.3021720928561|       2|     1|        Sud|   314046.69837688|\n",
            "|106.71646333256254|       1|     1|       Nord|240577.60959136163|\n",
            "| 274.2308111454345|       3|     1|      Ouest| 343792.4526503328|\n",
            "|34.318009898317726|       1|     1|      Ouest| 211397.6863164113|\n",
            "|172.84896082048152|       2|     0|       Nord| 232118.4096444127|\n",
            "| 88.77562107646906|       1|     1|      Ouest| 253379.1056204956|\n",
            "| 130.2206454105922|       3|     0|        Sud| 279459.6100099309|\n",
            "|131.53687580023472|       3|     1|        Est|306908.74115844496|\n",
            "|158.34241205524995|       3|     0|      Ouest| 269197.4939731851|\n",
            "|111.78330325459157|       1|     1|        Sud| 282646.0738291827|\n",
            "|24.959659227627867|       3|     0|        Sud|206544.46942162135|\n",
            "+------------------+--------+------+-----------+------------------+\n",
            "only showing top 20 rows\n",
            "\n"
          ]
        }
      ]
    },
    {
      "cell_type": "code",
      "source": [
        "df = df.selectExpr(\"cast(size as float) size\",\n",
        "    \"cast(nb_rooms as int) nb_rooms\",\n",
        "    \"cast(garden as int) garden\",\n",
        "    \"cast(orientation as string) orientation\",\n",
        "    \"cast(price as float) price\")               \n",
        "df.printSchema()\n",
        "df.show()"
      ],
      "metadata": {
        "colab": {
          "base_uri": "https://localhost:8080/"
        },
        "id": "7bXbHKOHUAzB",
        "outputId": "a4d9dd17-1097-419d-ce98-63f40923151a"
      },
      "execution_count": 12,
      "outputs": [
        {
          "output_type": "stream",
          "name": "stdout",
          "text": [
            "root\n",
            " |-- size: float (nullable = true)\n",
            " |-- nb_rooms: integer (nullable = true)\n",
            " |-- garden: integer (nullable = true)\n",
            " |-- orientation: string (nullable = true)\n",
            " |-- price: float (nullable = true)\n",
            "\n",
            "+----------+--------+------+-----------+---------+\n",
            "|      size|nb_rooms|garden|orientation|    price|\n",
            "+----------+--------+------+-----------+---------+\n",
            "| 116.30064|       1|     1|        Sud| 284413.3|\n",
            "| 194.30287|       2|     0|       Nord|237354.81|\n",
            "|  92.69496|       2|     0|      Ouest| 225302.0|\n",
            "| 116.47995|       2|     0|       Nord|214482.05|\n",
            "| 138.25642|       2|     1|        Est|289134.28|\n",
            "| 254.90839|       1|     1|       Nord|279516.88|\n",
            "|116.245766|       3|     1|        Sud|324392.25|\n",
            "| 110.88939|       2|     0|        Est|229287.98|\n",
            "|  157.7324|       1|     0|       Nord|208024.89|\n",
            "| 144.30217|       2|     1|        Sud| 314046.7|\n",
            "| 106.71646|       1|     1|       Nord|240577.61|\n",
            "|  274.2308|       3|     1|      Ouest|343792.44|\n",
            "|  34.31801|       1|     1|      Ouest|211397.69|\n",
            "| 172.84895|       2|     0|       Nord| 232118.4|\n",
            "|  88.77562|       1|     1|      Ouest|253379.11|\n",
            "| 130.22064|       3|     0|        Sud|279459.62|\n",
            "| 131.53688|       3|     1|        Est|306908.75|\n",
            "|  158.3424|       3|     0|      Ouest| 269197.5|\n",
            "|  111.7833|       1|     1|        Sud|282646.06|\n",
            "|  24.95966|       3|     0|        Sud|206544.47|\n",
            "+----------+--------+------+-----------+---------+\n",
            "only showing top 20 rows\n",
            "\n"
          ]
        }
      ]
    },
    {
      "cell_type": "markdown",
      "source": [
        "## Vector Assembler with just the size"
      ],
      "metadata": {
        "id": "5zrrDAamaPRP"
      }
    },
    {
      "cell_type": "code",
      "source": [
        "from pyspark.ml.feature import VectorAssembler\n",
        "vectorAssembler  = VectorAssembler(inputCols =  ['size'], outputCol=\"features\")"
      ],
      "metadata": {
        "id": "GeOvtczNTdrE"
      },
      "execution_count": 13,
      "outputs": []
    },
    {
      "cell_type": "code",
      "source": [
        "df2 = vectorAssembler.transform(df)\n",
        "df2 = df2.select(['features', 'price'])\n",
        "df2.show(3)"
      ],
      "metadata": {
        "colab": {
          "base_uri": "https://localhost:8080/"
        },
        "id": "YXiAjoz5T0Uj",
        "outputId": "be69308c-5df9-4f3e-d52a-793a13a5f606"
      },
      "execution_count": 14,
      "outputs": [
        {
          "output_type": "stream",
          "name": "stdout",
          "text": [
            "+--------------------+---------+\n",
            "|            features|    price|\n",
            "+--------------------+---------+\n",
            "| [116.3006362915039]| 284413.3|\n",
            "|[194.30287170410156]|237354.81|\n",
            "| [92.69496154785156]| 225302.0|\n",
            "+--------------------+---------+\n",
            "only showing top 3 rows\n",
            "\n"
          ]
        }
      ]
    },
    {
      "cell_type": "markdown",
      "source": [
        "## Split"
      ],
      "metadata": {
        "id": "mR_nyQSZaSYx"
      }
    },
    {
      "cell_type": "code",
      "source": [
        "splits = df2.randomSplit([0.7, 0.3])\n",
        "train_df = splits[0]\n",
        "test_df = splits[1]"
      ],
      "metadata": {
        "id": "L37KsCfiUb_w"
      },
      "execution_count": 15,
      "outputs": []
    },
    {
      "cell_type": "markdown",
      "source": [
        "## Train the linear regression"
      ],
      "metadata": {
        "id": "oMIzYCr5aZoH"
      }
    },
    {
      "cell_type": "code",
      "source": [
        "from pyspark.ml.regression import LinearRegression\n",
        "\n",
        "model = LinearRegression(featuresCol = 'features', labelCol='price', maxIter=10, regParam=0.3, elasticNetParam=0.8)\n",
        "trained_model = model.fit(train_df)\n",
        "\n",
        "print(\"Coefficients: \" + str(trained_model.coefficients))\n",
        "print(\"Intercept: \" + str(trained_model.intercept))"
      ],
      "metadata": {
        "colab": {
          "base_uri": "https://localhost:8080/"
        },
        "id": "zAUVVFhmUfsL",
        "outputId": "d028c3bf-409a-4610-a1b2-c0949f04fffb"
      },
      "execution_count": 16,
      "outputs": [
        {
          "output_type": "stream",
          "name": "stdout",
          "text": [
            "Coefficients: [305.5592196891665]\n",
            "Intercept: 215019.28382399757\n"
          ]
        }
      ]
    },
    {
      "cell_type": "code",
      "source": [
        "trainingSummary = trained_model.summary\n",
        "print(\"RMSE: %f\" % trainingSummary.rootMeanSquaredError)\n",
        "print(\"r2: %f\" % trainingSummary.r2)"
      ],
      "metadata": {
        "colab": {
          "base_uri": "https://localhost:8080/"
        },
        "id": "q_Uk0YUtUoIC",
        "outputId": "e971944f-2224-4123-9ff6-ec0fe65c2867"
      },
      "execution_count": 17,
      "outputs": [
        {
          "output_type": "stream",
          "name": "stdout",
          "text": [
            "RMSE: 32429.540676\n",
            "r2: 0.228891\n"
          ]
        }
      ]
    },
    {
      "cell_type": "markdown",
      "source": [
        "## Prediction and Evaluation"
      ],
      "metadata": {
        "id": "8H0bFbrbaeWC"
      }
    },
    {
      "cell_type": "code",
      "source": [
        "from pyspark.ml.evaluation import RegressionEvaluator\n",
        "# Define evaluator as RMSE and print length of evaluator\n",
        "evaluator = RegressionEvaluator(metricName=\"rmse\", labelCol=\"price\", predictionCol=\"prediction\") "
      ],
      "metadata": {
        "id": "nq3YMqYvUrHl"
      },
      "execution_count": 18,
      "outputs": []
    },
    {
      "cell_type": "code",
      "source": [
        "# View the predictions\n",
        "test_predictions = trained_model.transform(test_df)\n",
        "test_predictions.show()\n",
        "\n",
        "RMSE = evaluator.evaluate(test_predictions)\n",
        "print(RMSE)"
      ],
      "metadata": {
        "colab": {
          "base_uri": "https://localhost:8080/"
        },
        "id": "d23oJsAQUuoR",
        "outputId": "1e0e7b9f-a07a-4556-df1a-e6b8c6b84dfa"
      },
      "execution_count": 20,
      "outputs": [
        {
          "output_type": "stream",
          "name": "stdout",
          "text": [
            "+--------------------+---------+------------------+\n",
            "|            features|    price|        prediction|\n",
            "+--------------------+---------+------------------+\n",
            "|[24.959659576416016]|206544.47|222645.93792787447|\n",
            "| [34.31800842285156]|211397.69|225505.46769897034|\n",
            "| [92.69496154785156]| 225302.0|243343.08394367638|\n",
            "|[116.24576568603516]|324392.25|250539.24927919215|\n",
            "| [116.3006362915039]| 284413.3|250556.01549858306|\n",
            "| [121.8032455444336]|253476.25|252237.38848816266|\n",
            "|[122.16044616699219]|266606.97|252346.53443166413|\n",
            "|[130.79840087890625]|220657.31|254985.94113314696|\n",
            "|[131.08433532714844]| 269754.8|255073.31104003408|\n",
            "|[131.53688049316406]|306908.75|255211.59038783592|\n",
            "|[182.44317626953125]|324535.72| 270766.4784025286|\n",
            "|[194.56739807128906]|277415.72| 274471.1461556121|\n",
            "|[206.96255493164062]|281181.12|278258.60061378597|\n",
            "|[234.57737731933594]|315791.78|286696.56419442507|\n",
            "+--------------------+---------+------------------+\n",
            "\n",
            "33177.785794024065\n"
          ]
        }
      ]
    },
    {
      "cell_type": "markdown",
      "source": [
        "## String Indexer to change the categorical column"
      ],
      "metadata": {
        "id": "Qh5TnP46axUF"
      }
    },
    {
      "cell_type": "code",
      "source": [
        "from pyspark.ml import Pipeline\n",
        "from pyspark.ml.feature import StringIndexer\n",
        "\n",
        "indexers = [StringIndexer(inputCol=\"orientation\", outputCol=\"orientationIndex\")]\n",
        "\n",
        "\n",
        "pipeline = Pipeline(stages=indexers)\n",
        "df3 = pipeline.fit(df).transform(df)\n",
        "\n",
        "df3.show()"
      ],
      "metadata": {
        "colab": {
          "base_uri": "https://localhost:8080/"
        },
        "id": "7gHN10HbVDWl",
        "outputId": "9cae58c2-64dd-4ff0-9ab7-517704c0d0a1"
      },
      "execution_count": 23,
      "outputs": [
        {
          "output_type": "stream",
          "name": "stdout",
          "text": [
            "+----------+--------+------+-----------+---------+----------------+\n",
            "|      size|nb_rooms|garden|orientation|    price|orientationIndex|\n",
            "+----------+--------+------+-----------+---------+----------------+\n",
            "| 116.30064|       1|     1|        Sud| 284413.3|             1.0|\n",
            "| 194.30287|       2|     0|       Nord|237354.81|             0.0|\n",
            "|  92.69496|       2|     0|      Ouest| 225302.0|             2.0|\n",
            "| 116.47995|       2|     0|       Nord|214482.05|             0.0|\n",
            "| 138.25642|       2|     1|        Est|289134.28|             3.0|\n",
            "| 254.90839|       1|     1|       Nord|279516.88|             0.0|\n",
            "|116.245766|       3|     1|        Sud|324392.25|             1.0|\n",
            "| 110.88939|       2|     0|        Est|229287.98|             3.0|\n",
            "|  157.7324|       1|     0|       Nord|208024.89|             0.0|\n",
            "| 144.30217|       2|     1|        Sud| 314046.7|             1.0|\n",
            "| 106.71646|       1|     1|       Nord|240577.61|             0.0|\n",
            "|  274.2308|       3|     1|      Ouest|343792.44|             2.0|\n",
            "|  34.31801|       1|     1|      Ouest|211397.69|             2.0|\n",
            "| 172.84895|       2|     0|       Nord| 232118.4|             0.0|\n",
            "|  88.77562|       1|     1|      Ouest|253379.11|             2.0|\n",
            "| 130.22064|       3|     0|        Sud|279459.62|             1.0|\n",
            "| 131.53688|       3|     1|        Est|306908.75|             3.0|\n",
            "|  158.3424|       3|     0|      Ouest| 269197.5|             2.0|\n",
            "|  111.7833|       1|     1|        Sud|282646.06|             1.0|\n",
            "|  24.95966|       3|     0|        Sud|206544.47|             1.0|\n",
            "+----------+--------+------+-----------+---------+----------------+\n",
            "only showing top 20 rows\n",
            "\n"
          ]
        }
      ]
    },
    {
      "cell_type": "code",
      "source": [
        "df3 = df3.drop(\"orientation\")\n",
        "df3.show()"
      ],
      "metadata": {
        "colab": {
          "base_uri": "https://localhost:8080/"
        },
        "id": "yvCFz_ABWIYC",
        "outputId": "637e6990-f6c1-4e86-df4a-9ed9b1cc38fb"
      },
      "execution_count": 25,
      "outputs": [
        {
          "output_type": "stream",
          "name": "stdout",
          "text": [
            "+----------+--------+------+---------+----------------+\n",
            "|      size|nb_rooms|garden|    price|orientationIndex|\n",
            "+----------+--------+------+---------+----------------+\n",
            "| 116.30064|       1|     1| 284413.3|             1.0|\n",
            "| 194.30287|       2|     0|237354.81|             0.0|\n",
            "|  92.69496|       2|     0| 225302.0|             2.0|\n",
            "| 116.47995|       2|     0|214482.05|             0.0|\n",
            "| 138.25642|       2|     1|289134.28|             3.0|\n",
            "| 254.90839|       1|     1|279516.88|             0.0|\n",
            "|116.245766|       3|     1|324392.25|             1.0|\n",
            "| 110.88939|       2|     0|229287.98|             3.0|\n",
            "|  157.7324|       1|     0|208024.89|             0.0|\n",
            "| 144.30217|       2|     1| 314046.7|             1.0|\n",
            "| 106.71646|       1|     1|240577.61|             0.0|\n",
            "|  274.2308|       3|     1|343792.44|             2.0|\n",
            "|  34.31801|       1|     1|211397.69|             2.0|\n",
            "| 172.84895|       2|     0| 232118.4|             0.0|\n",
            "|  88.77562|       1|     1|253379.11|             2.0|\n",
            "| 130.22064|       3|     0|279459.62|             1.0|\n",
            "| 131.53688|       3|     1|306908.75|             3.0|\n",
            "|  158.3424|       3|     0| 269197.5|             2.0|\n",
            "|  111.7833|       1|     1|282646.06|             1.0|\n",
            "|  24.95966|       3|     0|206544.47|             1.0|\n",
            "+----------+--------+------+---------+----------------+\n",
            "only showing top 20 rows\n",
            "\n"
          ]
        }
      ]
    },
    {
      "cell_type": "markdown",
      "source": [
        "## One Hot Encoder for the categorical column"
      ],
      "metadata": {
        "id": "NA2D5cMRa3EG"
      }
    },
    {
      "cell_type": "code",
      "source": [
        "from pyspark.ml.feature import OneHotEncoder, OneHotEncoderModel\n",
        "\n",
        "\n",
        "indexers = [StringIndexer(inputCol=\"orientation\", outputCol=\"orientationIndex\")]\n",
        "\n",
        "encoder = OneHotEncoder(\n",
        "    inputCols=[indexer.getOutputCol() for indexer in indexers],\n",
        "    outputCols=[\n",
        "        \"{0}_encoded\".format(indexer.getOutputCol()) for indexer in indexers]\n",
        ")\n",
        "\n",
        "assembler = VectorAssembler(\n",
        "    inputCols=encoder.getOutputCols(),\n",
        "    outputCol=\"features\"\n",
        ")\n",
        "\n",
        "pipeline = Pipeline(stages=indexers + [encoder, assembler])\n",
        "df4 = pipeline.fit(df).transform(df)\n",
        "\n",
        "df4.show()"
      ],
      "metadata": {
        "colab": {
          "base_uri": "https://localhost:8080/"
        },
        "id": "YfjETgQNWhF1",
        "outputId": "ae834bc9-c815-412f-95fa-9369808a8667"
      },
      "execution_count": 36,
      "outputs": [
        {
          "output_type": "stream",
          "name": "stdout",
          "text": [
            "+----------+--------+------+-----------+---------+----------------+------------------------+-------------+\n",
            "|      size|nb_rooms|garden|orientation|    price|orientationIndex|orientationIndex_encoded|     features|\n",
            "+----------+--------+------+-----------+---------+----------------+------------------------+-------------+\n",
            "| 116.30064|       1|     1|        Sud| 284413.3|             1.0|           (3,[1],[1.0])|[0.0,1.0,0.0]|\n",
            "| 194.30287|       2|     0|       Nord|237354.81|             0.0|           (3,[0],[1.0])|[1.0,0.0,0.0]|\n",
            "|  92.69496|       2|     0|      Ouest| 225302.0|             2.0|           (3,[2],[1.0])|[0.0,0.0,1.0]|\n",
            "| 116.47995|       2|     0|       Nord|214482.05|             0.0|           (3,[0],[1.0])|[1.0,0.0,0.0]|\n",
            "| 138.25642|       2|     1|        Est|289134.28|             3.0|               (3,[],[])|    (3,[],[])|\n",
            "| 254.90839|       1|     1|       Nord|279516.88|             0.0|           (3,[0],[1.0])|[1.0,0.0,0.0]|\n",
            "|116.245766|       3|     1|        Sud|324392.25|             1.0|           (3,[1],[1.0])|[0.0,1.0,0.0]|\n",
            "| 110.88939|       2|     0|        Est|229287.98|             3.0|               (3,[],[])|    (3,[],[])|\n",
            "|  157.7324|       1|     0|       Nord|208024.89|             0.0|           (3,[0],[1.0])|[1.0,0.0,0.0]|\n",
            "| 144.30217|       2|     1|        Sud| 314046.7|             1.0|           (3,[1],[1.0])|[0.0,1.0,0.0]|\n",
            "| 106.71646|       1|     1|       Nord|240577.61|             0.0|           (3,[0],[1.0])|[1.0,0.0,0.0]|\n",
            "|  274.2308|       3|     1|      Ouest|343792.44|             2.0|           (3,[2],[1.0])|[0.0,0.0,1.0]|\n",
            "|  34.31801|       1|     1|      Ouest|211397.69|             2.0|           (3,[2],[1.0])|[0.0,0.0,1.0]|\n",
            "| 172.84895|       2|     0|       Nord| 232118.4|             0.0|           (3,[0],[1.0])|[1.0,0.0,0.0]|\n",
            "|  88.77562|       1|     1|      Ouest|253379.11|             2.0|           (3,[2],[1.0])|[0.0,0.0,1.0]|\n",
            "| 130.22064|       3|     0|        Sud|279459.62|             1.0|           (3,[1],[1.0])|[0.0,1.0,0.0]|\n",
            "| 131.53688|       3|     1|        Est|306908.75|             3.0|               (3,[],[])|    (3,[],[])|\n",
            "|  158.3424|       3|     0|      Ouest| 269197.5|             2.0|           (3,[2],[1.0])|[0.0,0.0,1.0]|\n",
            "|  111.7833|       1|     1|        Sud|282646.06|             1.0|           (3,[1],[1.0])|[0.0,1.0,0.0]|\n",
            "|  24.95966|       3|     0|        Sud|206544.47|             1.0|           (3,[1],[1.0])|[0.0,1.0,0.0]|\n",
            "+----------+--------+------+-----------+---------+----------------+------------------------+-------------+\n",
            "only showing top 20 rows\n",
            "\n"
          ]
        }
      ]
    },
    {
      "cell_type": "markdown",
      "source": [
        "## Train and Evaluate Model on all features"
      ],
      "metadata": {
        "id": "HmBhNZenbC61"
      }
    },
    {
      "cell_type": "code",
      "source": [
        "df5 = df4.select(\"features\",\"price\")\n",
        "df5.show()"
      ],
      "metadata": {
        "colab": {
          "base_uri": "https://localhost:8080/"
        },
        "id": "N_ehSWJ0Yc9p",
        "outputId": "d0a8ffec-7c32-4354-cc3c-5e371055c5f7"
      },
      "execution_count": 41,
      "outputs": [
        {
          "output_type": "stream",
          "name": "stdout",
          "text": [
            "+-------------+---------+\n",
            "|     features|    price|\n",
            "+-------------+---------+\n",
            "|[0.0,1.0,0.0]| 284413.3|\n",
            "|[1.0,0.0,0.0]|237354.81|\n",
            "|[0.0,0.0,1.0]| 225302.0|\n",
            "|[1.0,0.0,0.0]|214482.05|\n",
            "|    (3,[],[])|289134.28|\n",
            "|[1.0,0.0,0.0]|279516.88|\n",
            "|[0.0,1.0,0.0]|324392.25|\n",
            "|    (3,[],[])|229287.98|\n",
            "|[1.0,0.0,0.0]|208024.89|\n",
            "|[0.0,1.0,0.0]| 314046.7|\n",
            "|[1.0,0.0,0.0]|240577.61|\n",
            "|[0.0,0.0,1.0]|343792.44|\n",
            "|[0.0,0.0,1.0]|211397.69|\n",
            "|[1.0,0.0,0.0]| 232118.4|\n",
            "|[0.0,0.0,1.0]|253379.11|\n",
            "|[0.0,1.0,0.0]|279459.62|\n",
            "|    (3,[],[])|306908.75|\n",
            "|[0.0,0.0,1.0]| 269197.5|\n",
            "|[0.0,1.0,0.0]|282646.06|\n",
            "|[0.0,1.0,0.0]|206544.47|\n",
            "+-------------+---------+\n",
            "only showing top 20 rows\n",
            "\n"
          ]
        }
      ]
    },
    {
      "cell_type": "code",
      "source": [
        "splits = df5.randomSplit([0.7, 0.3])\n",
        "train_df = splits[0]\n",
        "test_df = splits[1]"
      ],
      "metadata": {
        "id": "ZSQmvcuyYAuy"
      },
      "execution_count": 42,
      "outputs": []
    },
    {
      "cell_type": "code",
      "source": [
        "from pyspark.ml.regression import LinearRegression\n",
        "\n",
        "model = LinearRegression(featuresCol = 'features', labelCol='price', maxIter=10, regParam=0.3, elasticNetParam=0.8)\n",
        "trained_model = model.fit(train_df)\n",
        "\n",
        "print(\"Coefficients: \" + str(trained_model.coefficients))\n",
        "print(\"Intercept: \" + str(trained_model.intercept))"
      ],
      "metadata": {
        "colab": {
          "base_uri": "https://localhost:8080/"
        },
        "id": "v0WbnjJVY0OE",
        "outputId": "507dc7f3-cfd1-4b42-8755-372dd5c3a66f"
      },
      "execution_count": 43,
      "outputs": [
        {
          "output_type": "stream",
          "name": "stdout",
          "text": [
            "Coefficients: [461.21582926095795,28285.30550128099,13878.259467412461]\n",
            "Intercept: 249114.58576965457\n"
          ]
        }
      ]
    },
    {
      "cell_type": "code",
      "source": [
        "trainingSummary = trained_model.summary\n",
        "print(\"RMSE: %f\" % trainingSummary.rootMeanSquaredError)\n",
        "print(\"r2: %f\" % trainingSummary.r2)"
      ],
      "metadata": {
        "colab": {
          "base_uri": "https://localhost:8080/"
        },
        "id": "asFvQrkrY36E",
        "outputId": "5db190e6-454a-498d-d572-8dc2cfb2960f"
      },
      "execution_count": 44,
      "outputs": [
        {
          "output_type": "stream",
          "name": "stdout",
          "text": [
            "RMSE: 32778.966223\n",
            "r2: 0.109176\n"
          ]
        }
      ]
    },
    {
      "cell_type": "code",
      "source": [
        "from pyspark.ml.evaluation import RegressionEvaluator\n",
        "# Define evaluator as RMSE and print length of evaluator\n",
        "evaluator = RegressionEvaluator(metricName=\"rmse\", labelCol=\"price\", predictionCol=\"prediction\") "
      ],
      "metadata": {
        "id": "q1K8W4o8Y_gO"
      },
      "execution_count": 45,
      "outputs": []
    },
    {
      "cell_type": "code",
      "source": [
        "# View the predictions\n",
        "test_predictions = trained_model.transform(test_df)\n",
        "test_predictions.show()\n",
        "\n",
        "RMSE = evaluator.evaluate(test_predictions)\n",
        "print(RMSE)"
      ],
      "metadata": {
        "colab": {
          "base_uri": "https://localhost:8080/"
        },
        "id": "W8VP4C0nZFv7",
        "outputId": "c095dc43-9a39-47e0-e73d-4c7ac0f1dfdd"
      },
      "execution_count": 46,
      "outputs": [
        {
          "output_type": "stream",
          "name": "stdout",
          "text": [
            "+-------------+---------+------------------+\n",
            "|     features|    price|        prediction|\n",
            "+-------------+---------+------------------+\n",
            "|    (3,[],[])|229287.98|249114.58576965457|\n",
            "|    (3,[],[])|253476.25|249114.58576965457|\n",
            "|    (3,[],[])|289134.28|249114.58576965457|\n",
            "|    (3,[],[])|306908.75|249114.58576965457|\n",
            "|[0.0,0.0,1.0]|211397.69|  262992.845237067|\n",
            "|[0.0,0.0,1.0]|253379.11|  262992.845237067|\n",
            "|[0.0,1.0,0.0]|279459.62|277399.89127093554|\n",
            "|[0.0,1.0,0.0]| 314046.7|277399.89127093554|\n",
            "|[0.0,1.0,0.0]|350864.44|277399.89127093554|\n",
            "|[1.0,0.0,0.0]|208024.89|249575.80159891554|\n",
            "|[1.0,0.0,0.0]|233645.66|249575.80159891554|\n",
            "|[1.0,0.0,0.0]|237354.81|249575.80159891554|\n",
            "|[1.0,0.0,0.0]| 269754.8|249575.80159891554|\n",
            "|[1.0,0.0,0.0]|315791.78|249575.80159891554|\n",
            "|[1.0,0.0,0.0]|320174.25|249575.80159891554|\n",
            "+-------------+---------+------------------+\n",
            "\n",
            "42235.92728054293\n"
          ]
        }
      ]
    }
  ]
}